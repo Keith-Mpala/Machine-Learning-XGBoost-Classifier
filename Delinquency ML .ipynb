{
 "cells": [
  {
   "cell_type": "markdown",
   "id": "7c8ebf40",
   "metadata": {},
   "source": [
    "# Machine Learning Classification model Using XGBoost Classifier"
   ]
  },
  {
   "cell_type": "markdown",
   "id": "4eec42e9",
   "metadata": {},
   "source": [
    "This is a Machine Learning (ML) project where we want to predict whether a person experienced 90 days past due deliquency or worse. Delinquency is the state of being past due on a debt (when you're behind on your installment payments). Once you're deliquent for a certain period of time, your lender will declare the loan to be in default. The data set used was found on Kaggle and it has 12 columns as input variables and 150000 rows. Our dataset is a classification problem with YES/NO as our predicting variables. For this project we will explore XGBoost Classifier as our Machine Learning algorithm. Since our predicting variable is class imbalanced, we will further explore techniques that deal with imbalanced classes in Machine Learning. These will include Random Undersampling Technique, Random Oversampling technique (ROSE) and Synthetic Minority Oversampling Technique (SMOTE). Technique with the best metric scoring will be used in the final model for prediction where we will then implement Hyper parameter tuning with GridSearchCV to choose the best parameters for the final model."
   ]
  },
  {
   "cell_type": "code",
   "execution_count": 166,
   "id": "88cbd201",
   "metadata": {},
   "outputs": [],
   "source": [
    "import numpy as np\n",
    "import pandas as pd\n",
    "import matplotlib.pyplot as plt\n",
    "import seaborn as sns\n",
    "\n",
    "%matplotlib inline"
   ]
  },
  {
   "cell_type": "code",
   "execution_count": 167,
   "id": "c5d4abde",
   "metadata": {},
   "outputs": [],
   "source": [
    "# enlarge graphs and plots\n",
    "from matplotlib import pyplot as plt\n",
    "plt.rcParams[\"figure.figsize\"] = (10, 8)"
   ]
  },
  {
   "cell_type": "code",
   "execution_count": 168,
   "id": "ff4acbc8",
   "metadata": {},
   "outputs": [],
   "source": [
    "#import the datasets\n",
    "data = pd.read_csv(\"cs-training.csv\")\n",
    "test = pd.read_csv(\"cs-test.csv\")"
   ]
  },
  {
   "cell_type": "markdown",
   "id": "b85ffbec",
   "metadata": {},
   "source": [
    "# 1. Data Analysis"
   ]
  },
  {
   "cell_type": "code",
   "execution_count": 137,
   "id": "602f3e89",
   "metadata": {},
   "outputs": [
    {
     "data": {
      "text/html": [
       "<div>\n",
       "<style scoped>\n",
       "    .dataframe tbody tr th:only-of-type {\n",
       "        vertical-align: middle;\n",
       "    }\n",
       "\n",
       "    .dataframe tbody tr th {\n",
       "        vertical-align: top;\n",
       "    }\n",
       "\n",
       "    .dataframe thead th {\n",
       "        text-align: right;\n",
       "    }\n",
       "</style>\n",
       "<table border=\"1\" class=\"dataframe\">\n",
       "  <thead>\n",
       "    <tr style=\"text-align: right;\">\n",
       "      <th></th>\n",
       "      <th>Unnamed: 0</th>\n",
       "      <th>SeriousDlqin2yrs</th>\n",
       "      <th>RevolvingUtilizationOfUnsecuredLines</th>\n",
       "      <th>age</th>\n",
       "      <th>NumberOfTime30-59DaysPastDueNotWorse</th>\n",
       "      <th>DebtRatio</th>\n",
       "      <th>MonthlyIncome</th>\n",
       "      <th>NumberOfOpenCreditLinesAndLoans</th>\n",
       "      <th>NumberOfTimes90DaysLate</th>\n",
       "      <th>NumberRealEstateLoansOrLines</th>\n",
       "      <th>NumberOfTime60-89DaysPastDueNotWorse</th>\n",
       "      <th>NumberOfDependents</th>\n",
       "    </tr>\n",
       "  </thead>\n",
       "  <tbody>\n",
       "    <tr>\n",
       "      <th>0</th>\n",
       "      <td>1</td>\n",
       "      <td>1</td>\n",
       "      <td>0.766127</td>\n",
       "      <td>45</td>\n",
       "      <td>2</td>\n",
       "      <td>0.802982</td>\n",
       "      <td>9120.0</td>\n",
       "      <td>13</td>\n",
       "      <td>0</td>\n",
       "      <td>6</td>\n",
       "      <td>0</td>\n",
       "      <td>2.0</td>\n",
       "    </tr>\n",
       "    <tr>\n",
       "      <th>1</th>\n",
       "      <td>2</td>\n",
       "      <td>0</td>\n",
       "      <td>0.957151</td>\n",
       "      <td>40</td>\n",
       "      <td>0</td>\n",
       "      <td>0.121876</td>\n",
       "      <td>2600.0</td>\n",
       "      <td>4</td>\n",
       "      <td>0</td>\n",
       "      <td>0</td>\n",
       "      <td>0</td>\n",
       "      <td>1.0</td>\n",
       "    </tr>\n",
       "    <tr>\n",
       "      <th>2</th>\n",
       "      <td>3</td>\n",
       "      <td>0</td>\n",
       "      <td>0.658180</td>\n",
       "      <td>38</td>\n",
       "      <td>1</td>\n",
       "      <td>0.085113</td>\n",
       "      <td>3042.0</td>\n",
       "      <td>2</td>\n",
       "      <td>1</td>\n",
       "      <td>0</td>\n",
       "      <td>0</td>\n",
       "      <td>0.0</td>\n",
       "    </tr>\n",
       "    <tr>\n",
       "      <th>3</th>\n",
       "      <td>4</td>\n",
       "      <td>0</td>\n",
       "      <td>0.233810</td>\n",
       "      <td>30</td>\n",
       "      <td>0</td>\n",
       "      <td>0.036050</td>\n",
       "      <td>3300.0</td>\n",
       "      <td>5</td>\n",
       "      <td>0</td>\n",
       "      <td>0</td>\n",
       "      <td>0</td>\n",
       "      <td>0.0</td>\n",
       "    </tr>\n",
       "    <tr>\n",
       "      <th>4</th>\n",
       "      <td>5</td>\n",
       "      <td>0</td>\n",
       "      <td>0.907239</td>\n",
       "      <td>49</td>\n",
       "      <td>1</td>\n",
       "      <td>0.024926</td>\n",
       "      <td>63588.0</td>\n",
       "      <td>7</td>\n",
       "      <td>0</td>\n",
       "      <td>1</td>\n",
       "      <td>0</td>\n",
       "      <td>0.0</td>\n",
       "    </tr>\n",
       "  </tbody>\n",
       "</table>\n",
       "</div>"
      ],
      "text/plain": [
       "   Unnamed: 0  SeriousDlqin2yrs  RevolvingUtilizationOfUnsecuredLines  age  \\\n",
       "0           1                 1                              0.766127   45   \n",
       "1           2                 0                              0.957151   40   \n",
       "2           3                 0                              0.658180   38   \n",
       "3           4                 0                              0.233810   30   \n",
       "4           5                 0                              0.907239   49   \n",
       "\n",
       "   NumberOfTime30-59DaysPastDueNotWorse  DebtRatio  MonthlyIncome  \\\n",
       "0                                     2   0.802982         9120.0   \n",
       "1                                     0   0.121876         2600.0   \n",
       "2                                     1   0.085113         3042.0   \n",
       "3                                     0   0.036050         3300.0   \n",
       "4                                     1   0.024926        63588.0   \n",
       "\n",
       "   NumberOfOpenCreditLinesAndLoans  NumberOfTimes90DaysLate  \\\n",
       "0                               13                        0   \n",
       "1                                4                        0   \n",
       "2                                2                        1   \n",
       "3                                5                        0   \n",
       "4                                7                        0   \n",
       "\n",
       "   NumberRealEstateLoansOrLines  NumberOfTime60-89DaysPastDueNotWorse  \\\n",
       "0                             6                                     0   \n",
       "1                             0                                     0   \n",
       "2                             0                                     0   \n",
       "3                             0                                     0   \n",
       "4                             1                                     0   \n",
       "\n",
       "   NumberOfDependents  \n",
       "0                 2.0  \n",
       "1                 1.0  \n",
       "2                 0.0  \n",
       "3                 0.0  \n",
       "4                 0.0  "
      ]
     },
     "execution_count": 137,
     "metadata": {},
     "output_type": "execute_result"
    }
   ],
   "source": [
    "#check top five rows of our dataset\n",
    "data.head()"
   ]
  },
  {
   "cell_type": "code",
   "execution_count": 138,
   "id": "8a7ddfd0",
   "metadata": {},
   "outputs": [
    {
     "name": "stdout",
     "output_type": "stream",
     "text": [
      "<class 'pandas.core.frame.DataFrame'>\n",
      "RangeIndex: 150000 entries, 0 to 149999\n",
      "Data columns (total 12 columns):\n",
      " #   Column                                Non-Null Count   Dtype  \n",
      "---  ------                                --------------   -----  \n",
      " 0   Unnamed: 0                            150000 non-null  int64  \n",
      " 1   SeriousDlqin2yrs                      150000 non-null  int64  \n",
      " 2   RevolvingUtilizationOfUnsecuredLines  150000 non-null  float64\n",
      " 3   age                                   150000 non-null  int64  \n",
      " 4   NumberOfTime30-59DaysPastDueNotWorse  150000 non-null  int64  \n",
      " 5   DebtRatio                             150000 non-null  float64\n",
      " 6   MonthlyIncome                         120269 non-null  float64\n",
      " 7   NumberOfOpenCreditLinesAndLoans       150000 non-null  int64  \n",
      " 8   NumberOfTimes90DaysLate               150000 non-null  int64  \n",
      " 9   NumberRealEstateLoansOrLines          150000 non-null  int64  \n",
      " 10  NumberOfTime60-89DaysPastDueNotWorse  150000 non-null  int64  \n",
      " 11  NumberOfDependents                    146076 non-null  float64\n",
      "dtypes: float64(4), int64(8)\n",
      "memory usage: 13.7 MB\n"
     ]
    }
   ],
   "source": [
    "# check the information of the whole dataset\n",
    "data.info()"
   ]
  },
  {
   "cell_type": "markdown",
   "id": "02fe6dfe",
   "metadata": {},
   "source": [
    "The info() method gives basic information about our dataset i.e number of columns (12) and rows (150 000) as well as the datatypes (int64 & float64). "
   ]
  },
  {
   "cell_type": "code",
   "execution_count": 78,
   "id": "6c9f2293",
   "metadata": {},
   "outputs": [
    {
     "data": {
      "text/html": [
       "<div>\n",
       "<style scoped>\n",
       "    .dataframe tbody tr th:only-of-type {\n",
       "        vertical-align: middle;\n",
       "    }\n",
       "\n",
       "    .dataframe tbody tr th {\n",
       "        vertical-align: top;\n",
       "    }\n",
       "\n",
       "    .dataframe thead th {\n",
       "        text-align: right;\n",
       "    }\n",
       "</style>\n",
       "<table border=\"1\" class=\"dataframe\">\n",
       "  <thead>\n",
       "    <tr style=\"text-align: right;\">\n",
       "      <th></th>\n",
       "      <th>Unnamed: 0</th>\n",
       "      <th>SeriousDlqin2yrs</th>\n",
       "      <th>RevolvingUtilizationOfUnsecuredLines</th>\n",
       "      <th>age</th>\n",
       "      <th>NumberOfTime30-59DaysPastDueNotWorse</th>\n",
       "      <th>DebtRatio</th>\n",
       "      <th>MonthlyIncome</th>\n",
       "      <th>NumberOfOpenCreditLinesAndLoans</th>\n",
       "      <th>NumberOfTimes90DaysLate</th>\n",
       "      <th>NumberRealEstateLoansOrLines</th>\n",
       "      <th>NumberOfTime60-89DaysPastDueNotWorse</th>\n",
       "      <th>NumberOfDependents</th>\n",
       "    </tr>\n",
       "  </thead>\n",
       "  <tbody>\n",
       "    <tr>\n",
       "      <th>count</th>\n",
       "      <td>150000.000000</td>\n",
       "      <td>150000.000000</td>\n",
       "      <td>150000.000000</td>\n",
       "      <td>150000.000000</td>\n",
       "      <td>150000.000000</td>\n",
       "      <td>150000.000000</td>\n",
       "      <td>1.202690e+05</td>\n",
       "      <td>150000.000000</td>\n",
       "      <td>150000.000000</td>\n",
       "      <td>150000.000000</td>\n",
       "      <td>150000.000000</td>\n",
       "      <td>146076.000000</td>\n",
       "    </tr>\n",
       "    <tr>\n",
       "      <th>mean</th>\n",
       "      <td>75000.500000</td>\n",
       "      <td>0.066840</td>\n",
       "      <td>6.048438</td>\n",
       "      <td>52.295207</td>\n",
       "      <td>0.421033</td>\n",
       "      <td>353.005076</td>\n",
       "      <td>6.670221e+03</td>\n",
       "      <td>8.452760</td>\n",
       "      <td>0.265973</td>\n",
       "      <td>1.018240</td>\n",
       "      <td>0.240387</td>\n",
       "      <td>0.757222</td>\n",
       "    </tr>\n",
       "    <tr>\n",
       "      <th>std</th>\n",
       "      <td>43301.414527</td>\n",
       "      <td>0.249746</td>\n",
       "      <td>249.755371</td>\n",
       "      <td>14.771866</td>\n",
       "      <td>4.192781</td>\n",
       "      <td>2037.818523</td>\n",
       "      <td>1.438467e+04</td>\n",
       "      <td>5.145951</td>\n",
       "      <td>4.169304</td>\n",
       "      <td>1.129771</td>\n",
       "      <td>4.155179</td>\n",
       "      <td>1.115086</td>\n",
       "    </tr>\n",
       "    <tr>\n",
       "      <th>min</th>\n",
       "      <td>1.000000</td>\n",
       "      <td>0.000000</td>\n",
       "      <td>0.000000</td>\n",
       "      <td>0.000000</td>\n",
       "      <td>0.000000</td>\n",
       "      <td>0.000000</td>\n",
       "      <td>0.000000e+00</td>\n",
       "      <td>0.000000</td>\n",
       "      <td>0.000000</td>\n",
       "      <td>0.000000</td>\n",
       "      <td>0.000000</td>\n",
       "      <td>0.000000</td>\n",
       "    </tr>\n",
       "    <tr>\n",
       "      <th>25%</th>\n",
       "      <td>37500.750000</td>\n",
       "      <td>0.000000</td>\n",
       "      <td>0.029867</td>\n",
       "      <td>41.000000</td>\n",
       "      <td>0.000000</td>\n",
       "      <td>0.175074</td>\n",
       "      <td>3.400000e+03</td>\n",
       "      <td>5.000000</td>\n",
       "      <td>0.000000</td>\n",
       "      <td>0.000000</td>\n",
       "      <td>0.000000</td>\n",
       "      <td>0.000000</td>\n",
       "    </tr>\n",
       "    <tr>\n",
       "      <th>50%</th>\n",
       "      <td>75000.500000</td>\n",
       "      <td>0.000000</td>\n",
       "      <td>0.154181</td>\n",
       "      <td>52.000000</td>\n",
       "      <td>0.000000</td>\n",
       "      <td>0.366508</td>\n",
       "      <td>5.400000e+03</td>\n",
       "      <td>8.000000</td>\n",
       "      <td>0.000000</td>\n",
       "      <td>1.000000</td>\n",
       "      <td>0.000000</td>\n",
       "      <td>0.000000</td>\n",
       "    </tr>\n",
       "    <tr>\n",
       "      <th>75%</th>\n",
       "      <td>112500.250000</td>\n",
       "      <td>0.000000</td>\n",
       "      <td>0.559046</td>\n",
       "      <td>63.000000</td>\n",
       "      <td>0.000000</td>\n",
       "      <td>0.868254</td>\n",
       "      <td>8.249000e+03</td>\n",
       "      <td>11.000000</td>\n",
       "      <td>0.000000</td>\n",
       "      <td>2.000000</td>\n",
       "      <td>0.000000</td>\n",
       "      <td>1.000000</td>\n",
       "    </tr>\n",
       "    <tr>\n",
       "      <th>max</th>\n",
       "      <td>150000.000000</td>\n",
       "      <td>1.000000</td>\n",
       "      <td>50708.000000</td>\n",
       "      <td>109.000000</td>\n",
       "      <td>98.000000</td>\n",
       "      <td>329664.000000</td>\n",
       "      <td>3.008750e+06</td>\n",
       "      <td>58.000000</td>\n",
       "      <td>98.000000</td>\n",
       "      <td>54.000000</td>\n",
       "      <td>98.000000</td>\n",
       "      <td>20.000000</td>\n",
       "    </tr>\n",
       "  </tbody>\n",
       "</table>\n",
       "</div>"
      ],
      "text/plain": [
       "          Unnamed: 0  SeriousDlqin2yrs  RevolvingUtilizationOfUnsecuredLines  \\\n",
       "count  150000.000000     150000.000000                         150000.000000   \n",
       "mean    75000.500000          0.066840                              6.048438   \n",
       "std     43301.414527          0.249746                            249.755371   \n",
       "min         1.000000          0.000000                              0.000000   \n",
       "25%     37500.750000          0.000000                              0.029867   \n",
       "50%     75000.500000          0.000000                              0.154181   \n",
       "75%    112500.250000          0.000000                              0.559046   \n",
       "max    150000.000000          1.000000                          50708.000000   \n",
       "\n",
       "                 age  NumberOfTime30-59DaysPastDueNotWorse      DebtRatio  \\\n",
       "count  150000.000000                         150000.000000  150000.000000   \n",
       "mean       52.295207                              0.421033     353.005076   \n",
       "std        14.771866                              4.192781    2037.818523   \n",
       "min         0.000000                              0.000000       0.000000   \n",
       "25%        41.000000                              0.000000       0.175074   \n",
       "50%        52.000000                              0.000000       0.366508   \n",
       "75%        63.000000                              0.000000       0.868254   \n",
       "max       109.000000                             98.000000  329664.000000   \n",
       "\n",
       "       MonthlyIncome  NumberOfOpenCreditLinesAndLoans  \\\n",
       "count   1.202690e+05                    150000.000000   \n",
       "mean    6.670221e+03                         8.452760   \n",
       "std     1.438467e+04                         5.145951   \n",
       "min     0.000000e+00                         0.000000   \n",
       "25%     3.400000e+03                         5.000000   \n",
       "50%     5.400000e+03                         8.000000   \n",
       "75%     8.249000e+03                        11.000000   \n",
       "max     3.008750e+06                        58.000000   \n",
       "\n",
       "       NumberOfTimes90DaysLate  NumberRealEstateLoansOrLines  \\\n",
       "count            150000.000000                 150000.000000   \n",
       "mean                  0.265973                      1.018240   \n",
       "std                   4.169304                      1.129771   \n",
       "min                   0.000000                      0.000000   \n",
       "25%                   0.000000                      0.000000   \n",
       "50%                   0.000000                      1.000000   \n",
       "75%                   0.000000                      2.000000   \n",
       "max                  98.000000                     54.000000   \n",
       "\n",
       "       NumberOfTime60-89DaysPastDueNotWorse  NumberOfDependents  \n",
       "count                         150000.000000       146076.000000  \n",
       "mean                               0.240387            0.757222  \n",
       "std                                4.155179            1.115086  \n",
       "min                                0.000000            0.000000  \n",
       "25%                                0.000000            0.000000  \n",
       "50%                                0.000000            0.000000  \n",
       "75%                                0.000000            1.000000  \n",
       "max                               98.000000           20.000000  "
      ]
     },
     "execution_count": 78,
     "metadata": {},
     "output_type": "execute_result"
    }
   ],
   "source": [
    "data.describe()"
   ]
  },
  {
   "cell_type": "markdown",
   "id": "1c33b222",
   "metadata": {},
   "source": [
    "The describe() method gives a statistical summary of the numeric variables of our dataset i.e the minimum and maximum values of each variables, mean and standard deviation of variables as well as the quartile and percentile ranges. The mimimum value for our age variable is 0 (zero), The variable therefore has to be removed from our dataset since age cannot be zero."
   ]
  },
  {
   "cell_type": "code",
   "execution_count": 79,
   "id": "ff3cff80",
   "metadata": {},
   "outputs": [
    {
     "data": {
      "text/plain": [
       "Unnamed: 0                                  0\n",
       "SeriousDlqin2yrs                            0\n",
       "RevolvingUtilizationOfUnsecuredLines        0\n",
       "age                                         0\n",
       "NumberOfTime30-59DaysPastDueNotWorse        0\n",
       "DebtRatio                                   0\n",
       "MonthlyIncome                           29731\n",
       "NumberOfOpenCreditLinesAndLoans             0\n",
       "NumberOfTimes90DaysLate                     0\n",
       "NumberRealEstateLoansOrLines                0\n",
       "NumberOfTime60-89DaysPastDueNotWorse        0\n",
       "NumberOfDependents                       3924\n",
       "dtype: int64"
      ]
     },
     "execution_count": 79,
     "metadata": {},
     "output_type": "execute_result"
    }
   ],
   "source": [
    "#check missing values\n",
    "data.isnull().sum()"
   ]
  },
  {
   "cell_type": "code",
   "execution_count": 139,
   "id": "b39fc73b",
   "metadata": {},
   "outputs": [
    {
     "data": {
      "text/plain": [
       "Text(0.5, 1.0, 'Visual representation of Missing Variables')"
      ]
     },
     "execution_count": 139,
     "metadata": {},
     "output_type": "execute_result"
    },
    {
     "data": {
      "image/png": "[encoded data removed]",
      "text/plain": [
       "<Figure size 720x576 with 1 Axes>"
      ]
     },
     "metadata": {
      "needs_background": "light"
     },
     "output_type": "display_data"
    }
   ],
   "source": [
    "sns.heatmap(data.isnull(), yticklabels=False, cbar=False, cmap='viridis').set_title('Visual representation of Missing Variables')"
   ]
  },
  {
   "cell_type": "markdown",
   "id": "e02090ad",
   "metadata": {},
   "source": [
    "There are two variables that have missing values, Monthly Income and Number of Dependents. The rest of the variables do not have any missing variables.The graph shows the visualisation of those missing values.Monthly Income has significantly more missing values. We will then check the percentage of missing variables from our whole dataset and decide on the data imputation technique based on the percentage of missing variables."
   ]
  },
  {
   "cell_type": "code",
   "execution_count": 81,
   "id": "4a1b33fe",
   "metadata": {},
   "outputs": [
    {
     "name": "stdout",
     "output_type": "stream",
     "text": [
      "Percentage of missing values on Monthly Income = 24.72%\n",
      "Percentage of missing values on Number of dependants = 2.69%\n"
     ]
    }
   ],
   "source": [
    "#getting % of missing values\n",
    "x = data['MonthlyIncome'].isnull().sum()/data['MonthlyIncome'].count() * 100\n",
    "print(f'Percentage of missing values on Monthly Income = {round(x,2)}%')\n",
    "\n",
    "y = data['NumberOfDependents'].isnull().sum()/data['NumberOfDependents'].count() * 100\n",
    "print(f'Percentage of missing values on Number of dependants = {round(y,2)}%')"
   ]
  },
  {
   "cell_type": "markdown",
   "id": "e83c8631",
   "metadata": {},
   "source": [
    "Monthly Income has 24.72% of missing data whereas the Number of Dependents columns only has 2.69% of missing data. From the description of our data we note that the **Debt Ratio variable** which is calculated as (debt payments, living costs) / Gross Monthly Income is highly interdependent on the Monthly Income variable. For this project, we are going to drop all columns that have Null values on Monthy Income variable. As for Number of Dependents, we are going to impute the missing values with the mode value (most frequent value)."
   ]
  },
  {
   "cell_type": "code",
   "execution_count": 140,
   "id": "08121ac7",
   "metadata": {},
   "outputs": [],
   "source": [
    "# getting count of Monthly income of zero or one or less than 50\n",
    "x = data[data['MonthlyIncome'] == 0]['MonthlyIncome'].count()\n",
    "y = data[data['MonthlyIncome'] == 1]['MonthlyIncome'].count()\n",
    "z = data[data['MonthlyIncome'] <= 50]['MonthlyIncome'].count()\n",
    "perc = data[data['MonthlyIncome'] <= 50]['MonthlyIncome'].count()/data['MonthlyIncome'].count() * 100"
   ]
  },
  {
   "cell_type": "code",
   "execution_count": 141,
   "id": "2e437d8a",
   "metadata": {},
   "outputs": [
    {
     "name": "stdout",
     "output_type": "stream",
     "text": [
      "Monthly Income == 0 : 1634\n",
      "Monthly Income == 1 : 605\n",
      "Monthly Income less than 50 : 2268\n",
      "Percentage of Monthly Income less than 50 : 1.89%\n"
     ]
    }
   ],
   "source": [
    "print(f\"Monthly Income == 0 : {x}\")\n",
    "print(f\"Monthly Income == 1 : {y}\")\n",
    "print(f\"Monthly Income less than 50 : {z}\")\n",
    "print(f\"Percentage of Monthly Income less than 50 : {round(perc,2)}%\")"
   ]
  },
  {
   "cell_type": "markdown",
   "id": "b57b80c1",
   "metadata": {},
   "source": [
    "The Monthly Income variable also has 1,634 and 605 borrowers that have a monthly income of 0 and 1 respectively. We assume that where Monthly income is 0 or 1, it represent that individual has No Income. "
   ]
  },
  {
   "cell_type": "markdown",
   "id": "5455f36c",
   "metadata": {},
   "source": [
    "# 2. Data Preprocessing"
   ]
  },
  {
   "cell_type": "markdown",
   "id": "9c041af5",
   "metadata": {},
   "source": [
    "# i) Dealing with missing values for train data"
   ]
  },
  {
   "cell_type": "markdown",
   "id": "3dc901b1",
   "metadata": {},
   "source": [
    "For this particular ML project, we are going to start with data preprocessing before data exploration. We do this to handle missing columns that have interconnection with other data variables. This will help to better analyse our data variables and make conclusive analyses."
   ]
  },
  {
   "cell_type": "code",
   "execution_count": 169,
   "id": "28775d4e",
   "metadata": {},
   "outputs": [],
   "source": [
    "# delete 1st column generated when loading the csv file.\n",
    "data.drop('Unnamed: 0', axis=1, inplace=True)"
   ]
  },
  {
   "cell_type": "code",
   "execution_count": 170,
   "id": "f5c68c40",
   "metadata": {},
   "outputs": [],
   "source": [
    "# get the most frequent value for Number of dependents\n",
    "mode = data['NumberOfDependents'].mode()\n",
    "data['NumberOfDependents'].fillna(mode, inplace=True)"
   ]
  },
  {
   "cell_type": "code",
   "execution_count": 171,
   "id": "520f8a20",
   "metadata": {},
   "outputs": [],
   "source": [
    "# drop all rows with NA ~ Monthly Income\n",
    "data.dropna(inplace=True)"
   ]
  },
  {
   "cell_type": "code",
   "execution_count": 173,
   "id": "947bb62b",
   "metadata": {},
   "outputs": [],
   "source": [
    "# drop rows/ variables where Age is zero\n",
    "data.drop(data[data['age'] == 0].index, inplace=True)\n",
    "#data.drop(data[data['age'] == 0], axis=1, inplace=True)"
   ]
  },
  {
   "cell_type": "code",
   "execution_count": 176,
   "id": "b5d2ec33",
   "metadata": {},
   "outputs": [],
   "source": [
    "#drop all columns where monthly income is less than 50\n",
    "data.drop(data[data['MonthlyIncome'] <=50].index,inplace=True)"
   ]
  },
  {
   "cell_type": "code",
   "execution_count": 177,
   "id": "5f1877a2",
   "metadata": {},
   "outputs": [
    {
     "data": {
      "text/plain": [
       "Index(['SeriousDlqin2yrs', 'RevolvingUtilizationOfUnsecuredLines', 'age',\n",
       "       'NumberOfTime30-59DaysPastDueNotWorse', 'DebtRatio', 'MonthlyIncome',\n",
       "       'NumberOfOpenCreditLinesAndLoans', 'NumberOfTimes90DaysLate',\n",
       "       'NumberRealEstateLoansOrLines', 'NumberOfTime60-89DaysPastDueNotWorse',\n",
       "       'NumberOfDependents'],\n",
       "      dtype='object')"
      ]
     },
     "execution_count": 177,
     "metadata": {},
     "output_type": "execute_result"
    }
   ],
   "source": [
    "# get all the columns of our data\n",
    "data.columns"
   ]
  },
  {
   "cell_type": "code",
   "execution_count": 178,
   "id": "089214d2",
   "metadata": {},
   "outputs": [
    {
     "data": {
      "text/plain": [
       "118000"
      ]
     },
     "execution_count": 178,
     "metadata": {},
     "output_type": "execute_result"
    }
   ],
   "source": [
    "data['MonthlyIncome'].count()"
   ]
  },
  {
   "cell_type": "markdown",
   "id": "287e6d1e",
   "metadata": {},
   "source": [
    "Replacing Number of dependants column with the most frequent value for both train data. The most frequent value for Number of dependants is 0.\n",
    "\n",
    "We are going to drop all columns that have missing values for Monthly Income.\n",
    "Finally, we drop column where Age variable is zero"
   ]
  },
  {
   "cell_type": "code",
   "execution_count": 88,
   "id": "8ce402fe",
   "metadata": {},
   "outputs": [
    {
     "data": {
      "text/plain": [
       "Text(0.5, 1.0, 'heatmap - Missing Values')"
      ]
     },
     "execution_count": 88,
     "metadata": {},
     "output_type": "execute_result"
    },
    {
     "data": {
      "image/png": "[encoded data removed]",
      "text/plain": [
       "<Figure size 720x576 with 1 Axes>"
      ]
     },
     "metadata": {
      "needs_background": "light"
     },
     "output_type": "display_data"
    }
   ],
   "source": [
    "sns.heatmap(data.isnull(), yticklabels=False, cbar=False, cmap='viridis').set_title(\"heatmap - Missing Values\")"
   ]
  },
  {
   "cell_type": "markdown",
   "id": "b986709e",
   "metadata": {},
   "source": [
    "As we can see from our visualisation that our dataset is now clean and free from missing values. Since we have already preprocessed our dataset, it nolonger has missing values. Our dataset also reduced in size from 150,000 to 118000 after removing Null/NA values from the monthly Income variable and where Age is zero."
   ]
  },
  {
   "cell_type": "markdown",
   "id": "ad2eda2d",
   "metadata": {},
   "source": [
    "# ii) Dealing with Missing Values for Test dataset"
   ]
  },
  {
   "cell_type": "code",
   "execution_count": 89,
   "id": "2e4a3125",
   "metadata": {},
   "outputs": [
    {
     "data": {
      "text/plain": [
       "<AxesSubplot:>"
      ]
     },
     "execution_count": 89,
     "metadata": {},
     "output_type": "execute_result"
    },
    {
     "data": {
      "image/png": "[encoded data removed]",
      "text/plain": [
       "<Figure size 720x576 with 1 Axes>"
      ]
     },
     "metadata": {
      "needs_background": "light"
     },
     "output_type": "display_data"
    }
   ],
   "source": [
    "sns.heatmap(test.isnull(), yticklabels=False, cbar=False, cmap='viridis')"
   ]
  },
  {
   "cell_type": "code",
   "execution_count": 90,
   "id": "3c97f6cf",
   "metadata": {},
   "outputs": [],
   "source": [
    "# Drop the unnamed variable and independent variable for prediction.\n",
    "test.drop('Unnamed: 0', axis=1, inplace=True)\n",
    "#test data drop dependent variable\n",
    "test_data = test.drop(columns='SeriousDlqin2yrs', axis=1)"
   ]
  },
  {
   "cell_type": "code",
   "execution_count": 91,
   "id": "735328c6",
   "metadata": {},
   "outputs": [
    {
     "name": "stdout",
     "output_type": "stream",
     "text": [
      "Frequent Number of dependents: 0    0.0\n",
      "dtype: float64\n"
     ]
    }
   ],
   "source": [
    "# replace missing variables for Number of Dependents\n",
    "mode = test_data['NumberOfDependents'].mode()\n",
    "test_data['NumberOfDependents'].fillna(0, inplace=True)\n",
    "print(f\"Frequent Number of dependents: {mode}\")"
   ]
  },
  {
   "cell_type": "code",
   "execution_count": 92,
   "id": "9307bf4a",
   "metadata": {},
   "outputs": [
    {
     "name": "stdout",
     "output_type": "stream",
     "text": [
      "Frequent Monthly Income: 0    5000.0\n",
      "dtype: float64\n"
     ]
    }
   ],
   "source": [
    "# replace missing variables for Monthly Income with most frequent value\n",
    "mode_income = test_data['MonthlyIncome'].mode()\n",
    "test_data['MonthlyIncome'].fillna(5000, inplace=True)\n",
    "print(f\"Frequent Monthly Income: {mode_income}\")\n"
   ]
  },
  {
   "cell_type": "markdown",
   "id": "22f4427d",
   "metadata": {},
   "source": [
    "For our test dataset, we also have two variables that have missing values. For the Number of dependents, we replace misssing values with a mode of zero that was used in our train dataset. Since we do not want to loose our dataset, we will further replace Monthly Income variable with with the most frequent value (mode). "
   ]
  },
  {
   "cell_type": "code",
   "execution_count": 21,
   "id": "8357e992",
   "metadata": {},
   "outputs": [],
   "source": [
    "#sns.heatmap(test_data.isnull(), yticklabels=False, cbar=False, cmap='viridis')"
   ]
  },
  {
   "cell_type": "markdown",
   "id": "dcb25846",
   "metadata": {},
   "source": [
    "# 3. Data Exploration"
   ]
  },
  {
   "cell_type": "markdown",
   "id": "481ab953",
   "metadata": {},
   "source": [
    "## Simple Plots For Data Exploration"
   ]
  },
  {
   "cell_type": "code",
   "execution_count": 22,
   "id": "c82905f9",
   "metadata": {},
   "outputs": [
    {
     "data": {
      "text/plain": [
       "Index(['SeriousDlqin2yrs', 'RevolvingUtilizationOfUnsecuredLines', 'age',\n",
       "       'NumberOfTime30-59DaysPastDueNotWorse', 'DebtRatio', 'MonthlyIncome',\n",
       "       'NumberOfOpenCreditLinesAndLoans', 'NumberOfTimes90DaysLate',\n",
       "       'NumberRealEstateLoansOrLines', 'NumberOfTime60-89DaysPastDueNotWorse',\n",
       "       'NumberOfDependents'],\n",
       "      dtype='object')"
      ]
     },
     "execution_count": 22,
     "metadata": {},
     "output_type": "execute_result"
    }
   ],
   "source": [
    "#get names of the columns\n",
    "data.columns"
   ]
  },
  {
   "cell_type": "code",
   "execution_count": 404,
   "id": "0066f330",
   "metadata": {},
   "outputs": [
    {
     "data": {
      "text/plain": [
       "Text(0.5, 1.0, 'Serious Delinquency in 2 years')"
      ]
     },
     "execution_count": 404,
     "metadata": {},
     "output_type": "execute_result"
    },
    {
     "data": {
      "image/png": "[encoded data removed]",
      "text/plain": [
       "<Figure size 720x576 with 1 Axes>"
      ]
     },
     "metadata": {
      "needs_background": "light"
     },
     "output_type": "display_data"
    }
   ],
   "source": [
    "sns.countplot(data=data, x='SeriousDlqin2yrs').set_title('Serious Delinquency in 2 years')"
   ]
  },
  {
   "cell_type": "markdown",
   "id": "2b040e2b",
   "metadata": {},
   "source": [
    "The graph shows the count of dependant variable we want to predict. We can note that our dataset is class imbalanced and therefore we need to consider using techniques that handle class imbalance when building our Machine Learning models so that we get unbiased predictions."
   ]
  },
  {
   "cell_type": "code",
   "execution_count": 405,
   "id": "164f2edb",
   "metadata": {},
   "outputs": [
    {
     "data": {
      "text/plain": [
       "Text(0.5, 1.0, 'Kdeplot ~ Age')"
      ]
     },
     "execution_count": 405,
     "metadata": {},
     "output_type": "execute_result"
    },
    {
     "data": {
      "image/png": "[encoded data removed]",
      "text/plain": [
       "<Figure size 720x576 with 1 Axes>"
      ]
     },
     "metadata": {
      "needs_background": "light"
     },
     "output_type": "display_data"
    }
   ],
   "source": [
    "sns.kdeplot(data['age'], shade=True, hue=data['SeriousDlqin2yrs']).set_title('Kdeplot ~ Age')"
   ]
  },
  {
   "cell_type": "markdown",
   "id": "e270009d",
   "metadata": {},
   "source": [
    "Density plot for the age variable using Seaborn kdeplot. The plot shows the distribution of variable age for both classes, and the distribution follows a normally distributed curve. "
   ]
  },
  {
   "cell_type": "code",
   "execution_count": 406,
   "id": "6aeb1dd2",
   "metadata": {},
   "outputs": [
    {
     "data": {
      "text/plain": [
       "Text(0.5, 1.0, 'Delinquency 30-59 days')"
      ]
     },
     "execution_count": 406,
     "metadata": {},
     "output_type": "execute_result"
    },
    {
     "data": {
      "image/png": "[encoded data removed]",
      "text/plain": [
       "<Figure size 720x576 with 1 Axes>"
      ]
     },
     "metadata": {
      "needs_background": "light"
     },
     "output_type": "display_data"
    }
   ],
   "source": [
    "sns.countplot(data=data, x='NumberOfTime30-59DaysPastDueNotWorse', hue=data['SeriousDlqin2yrs']).set_title('Delinquency 30-59 days')"
   ]
  },
  {
   "cell_type": "code",
   "execution_count": 397,
   "id": "979e80bd",
   "metadata": {},
   "outputs": [],
   "source": [
    "p = data[data['NumberOfTime30-59DaysPastDueNotWorse'] == 0]['NumberOfTime30-59DaysPastDueNotWorse'].count()\n",
    "x = data[data['NumberOfTime30-59DaysPastDueNotWorse'] > 0]['NumberOfTime30-59DaysPastDueNotWorse'].count()\n",
    "y = data[data['NumberOfTime30-59DaysPastDueNotWorse'] > 4]['NumberOfTime30-59DaysPastDueNotWorse'].count()\n",
    "z = data[data['NumberOfTime30-59DaysPastDueNotWorse'] == 98]['NumberOfTime30-59DaysPastDueNotWorse'].count()"
   ]
  },
  {
   "cell_type": "code",
   "execution_count": 398,
   "id": "81433593",
   "metadata": {},
   "outputs": [
    {
     "name": "stdout",
     "output_type": "stream",
     "text": [
      "Borrowers NOT due : 97970\n",
      "Borrowers due one time or more : 20030\n",
      "Borrowers due more than four times : 631\n",
      "Borrowers due 98 times 135\n"
     ]
    }
   ],
   "source": [
    "print(f\"Borrowers NOT due : {p}\")\n",
    "print(f\"Borrowers due one time or more : {x}\")\n",
    "print(f\"Borrowers due more than four times : {y}\")\n",
    "print(f\"Borrowers due 98 times {z}\")"
   ]
  },
  {
   "cell_type": "markdown",
   "id": "b21302d5",
   "metadata": {},
   "source": [
    "The countplot shows the distribution of the **number of times borrower has been 30-59 days but not worse in the last 2 years**. Most borrowers have not been due 30-59 days. Only 20,030 borrowers have been due more than once and 631 borrowers have been due more than 4 times with 135 due 98 times."
   ]
  },
  {
   "cell_type": "code",
   "execution_count": 407,
   "id": "bef4ed0b",
   "metadata": {},
   "outputs": [
    {
     "data": {
      "text/plain": [
       "Text(0.5, 1.0, 'Delinquency 60-89 days')"
      ]
     },
     "execution_count": 407,
     "metadata": {},
     "output_type": "execute_result"
    },
    {
     "data": {
      "image/png": "[encoded data removed]",
      "text/plain": [
       "<Figure size 720x576 with 1 Axes>"
      ]
     },
     "metadata": {
      "needs_background": "light"
     },
     "output_type": "display_data"
    }
   ],
   "source": [
    "sns.countplot(data=data, x='NumberOfTime60-89DaysPastDueNotWorse', hue=data['SeriousDlqin2yrs']).set_title('Delinquency 60-89 days')"
   ]
  },
  {
   "cell_type": "code",
   "execution_count": 399,
   "id": "55b2b5dc",
   "metadata": {},
   "outputs": [],
   "source": [
    "p = data[data['NumberOfTime30-59DaysPastDueNotWorse'] == 0]['NumberOfTime30-59DaysPastDueNotWorse'].count()\n",
    "x = data[data['NumberOfTime30-59DaysPastDueNotWorse'] > 0]['NumberOfTime30-59DaysPastDueNotWorse'].count()\n",
    "y = data[data['NumberOfTime30-59DaysPastDueNotWorse'] > 4]['NumberOfTime30-59DaysPastDueNotWorse'].count()\n",
    "z = data[data['NumberOfTime30-59DaysPastDueNotWorse'] == 98]['NumberOfTime30-59DaysPastDueNotWorse'].count()"
   ]
  },
  {
   "cell_type": "code",
   "execution_count": 400,
   "id": "3062c64a",
   "metadata": {},
   "outputs": [
    {
     "name": "stdout",
     "output_type": "stream",
     "text": [
      "Borrowers NOT due : 97970\n",
      "Borrowers due one time or more : 20030\n",
      "Borrowers due more than four times : 631\n",
      "Borrowers due 98 times 135\n"
     ]
    }
   ],
   "source": [
    "print(f\"Borrowers NOT due : {p}\")\n",
    "print(f\"Borrowers due one time or more : {x}\")\n",
    "print(f\"Borrowers due more than four times : {y}\")\n",
    "print(f\"Borrowers due 98 times {z}\")"
   ]
  },
  {
   "cell_type": "markdown",
   "id": "77fbc414",
   "metadata": {},
   "source": [
    "The countplot shows the distribution of the **number of times borrower has been 60-89 days but not worse in the last 2 years**. Most borrowers have not been due between 60-89 days. 20,030 borrowers have been due more than once while 631 borrowers have been due more than four times with 135 due exacle 98 days or more."
   ]
  },
  {
   "cell_type": "code",
   "execution_count": 408,
   "id": "33292055",
   "metadata": {},
   "outputs": [
    {
     "data": {
      "text/plain": [
       "Text(0.5, 1.0, 'Delinquency 90 days and more')"
      ]
     },
     "execution_count": 408,
     "metadata": {},
     "output_type": "execute_result"
    },
    {
     "data": {
      "image/png": "[encoded data removed]",
      "text/plain": [
       "<Figure size 720x576 with 1 Axes>"
      ]
     },
     "metadata": {
      "needs_background": "light"
     },
     "output_type": "display_data"
    }
   ],
   "source": [
    "sns.countplot(data=data, x='NumberOfTimes90DaysLate', hue=data['SeriousDlqin2yrs']).set_title('Delinquency 90 days and more')"
   ]
  },
  {
   "cell_type": "code",
   "execution_count": 409,
   "id": "219f4479",
   "metadata": {},
   "outputs": [],
   "source": [
    "p = data[data['NumberOfTimes90DaysLate'] == 0]['NumberOfTimes90DaysLate'].count()\n",
    "x = data[data['NumberOfTimes90DaysLate'] > 0]['NumberOfTimes90DaysLate'].count()\n",
    "y = data[data['NumberOfTimes90DaysLate'] > 1]['NumberOfTimes90DaysLate'].count()\n",
    "z = data[data['NumberOfTimes90DaysLate'] == 98]['NumberOfTimes90DaysLate'].count()"
   ]
  },
  {
   "cell_type": "code",
   "execution_count": 410,
   "id": "b5296d73",
   "metadata": {},
   "outputs": [
    {
     "name": "stdout",
     "output_type": "stream",
     "text": [
      "Borrowers NOT due : 111360\n",
      "Borrowers due one time or more : 6640\n",
      "Borrowers due two times or more : 2381\n",
      "Borrowers due 98 times 135\n"
     ]
    }
   ],
   "source": [
    "print(f\"Borrowers NOT due : {p}\")\n",
    "print(f\"Borrowers due one time or more : {x}\")\n",
    "print(f\"Borrowers due two times or more : {y}\")\n",
    "print(f\"Borrowers due 98 times {z}\")"
   ]
  },
  {
   "cell_type": "markdown",
   "id": "1e5cb474",
   "metadata": {},
   "source": [
    "The countplot shows the distribution of the **number of times borrower has been 90 days but not worse in the last 2 years**. Most  borrowers have not been due 90 days or more. 6,640 borrowers have been due atleast once while 2,381 borrowers have been due more than one time with 135 due exacle 98 times or more."
   ]
  },
  {
   "cell_type": "code",
   "execution_count": 618,
   "id": "b517b01e",
   "metadata": {},
   "outputs": [],
   "source": [
    "# sns.histplot(data=data, x='MonthlyIncome')"
   ]
  },
  {
   "cell_type": "code",
   "execution_count": 411,
   "id": "6736da75",
   "metadata": {},
   "outputs": [
    {
     "data": {
      "text/plain": [
       "Text(0.5, 1.0, 'Number of Dependents')"
      ]
     },
     "execution_count": 411,
     "metadata": {},
     "output_type": "execute_result"
    },
    {
     "data": {
      "image/png": "[encoded data removed]",
      "text/plain": [
       "<Figure size 720x576 with 1 Axes>"
      ]
     },
     "metadata": {
      "needs_background": "light"
     },
     "output_type": "display_data"
    }
   ],
   "source": [
    "# number of dependents\n",
    "sns.countplot(data=data, x='NumberOfDependents',palette=\"Blues_d\").set_title('Number of Dependents')"
   ]
  },
  {
   "cell_type": "code",
   "execution_count": null,
   "id": "21901cfc",
   "metadata": {},
   "outputs": [],
   "source": [
    "#data[data['NumberOfDependents'] >6]['NumberOfDependents'].count()"
   ]
  },
  {
   "cell_type": "markdown",
   "id": "e914fea8",
   "metadata": {},
   "source": [
    "The graph shows the distribution of the Number of Dependants in family (spouse, children etc). 64,026 borrowers do not have any dependants, followed by 24,136 borrowers who only have one dependent. 3,512 borrowers have four or more dependents with only 80 having more than 6 dependents."
   ]
  },
  {
   "cell_type": "code",
   "execution_count": 417,
   "id": "7fb875a8",
   "metadata": {},
   "outputs": [
    {
     "data": {
      "text/plain": [
       "Text(0.5, 1.0, 'Number Of Open Credit Lines And Loans')"
      ]
     },
     "execution_count": 417,
     "metadata": {},
     "output_type": "execute_result"
    },
    {
     "data": {
      "image/png": "[encoded data removed]",
      "text/plain": [
       "<Figure size 720x576 with 1 Axes>"
      ]
     },
     "metadata": {
      "needs_background": "light"
     },
     "output_type": "display_data"
    }
   ],
   "source": [
    "sns.histplot(data=data, x='NumberOfOpenCreditLinesAndLoans', hue='SeriousDlqin2yrs', bins=30).set_title('Number Of Open Credit Lines And Loans')"
   ]
  },
  {
   "cell_type": "markdown",
   "id": "aa4c8a53",
   "metadata": {},
   "source": [
    "The number of open credit lines and loans follows a normal distribution with a mean of around 8"
   ]
  },
  {
   "cell_type": "code",
   "execution_count": 418,
   "id": "fb275d57",
   "metadata": {},
   "outputs": [],
   "source": [
    "# getting the column for credit utilisation for simple plotting \n",
    "x = round(data['RevolvingUtilizationOfUnsecuredLines']*100)"
   ]
  },
  {
   "cell_type": "code",
   "execution_count": 419,
   "id": "0e42135d",
   "metadata": {},
   "outputs": [
    {
     "name": "stderr",
     "output_type": "stream",
     "text": [
      "C:\\users\\hp\\appdata\\local\\programs\\python\\python39\\lib\\site-packages\\seaborn\\_decorators.py:36: FutureWarning: Pass the following variable as a keyword arg: x. From version 0.12, the only valid positional argument will be `data`, and passing other arguments without an explicit keyword will result in an error or misinterpretation.\n",
      "  warnings.warn(\n"
     ]
    },
    {
     "name": "stdout",
     "output_type": "stream",
     "text": [
      "107660 have a utilization ratio less than  100%\n",
      "7835 have a utilization ratio equal to 100%\n"
     ]
    },
    {
     "data": {
      "image/png": "[encoded data removed]",
      "text/plain": [
       "<Figure size 720x576 with 1 Axes>"
      ]
     },
     "metadata": {
      "needs_background": "light"
     },
     "output_type": "display_data"
    }
   ],
   "source": [
    "# plot for utilization ratio less than 100%\n",
    "sns.countplot(x[x<=100]).set_title('Revolving Utilization of Unsecured Lines upto 100% ratio')\n",
    "print(x[x<100].count(), 'have a utilization ratio less than  100%')\n",
    "print(x[x==100].count(), 'have a utilization ratio equal to 100%')"
   ]
  },
  {
   "cell_type": "markdown",
   "id": "e3f0385e",
   "metadata": {},
   "source": [
    "**RevolvingUtilizationOfUnsecuredLines** is a variable that describes the ratio of the total balance on credit cards and personal lines of credit except real estate and no installment debt like car loans divided by the sum of credit limits. This is the ratio that shows how much the borrower utilizes their credit limits. A low credit utilization rate shows you're using less of your available credit which is an indication you're doing a good job managing credit. The graph shows distribution of **RevolvingUtilizationOfUnsecuredLines** between 0 and 100 %. "
   ]
  },
  {
   "cell_type": "code",
   "execution_count": 420,
   "id": "13fae110",
   "metadata": {},
   "outputs": [
    {
     "name": "stderr",
     "output_type": "stream",
     "text": [
      "C:\\users\\hp\\appdata\\local\\programs\\python\\python39\\lib\\site-packages\\seaborn\\_decorators.py:36: FutureWarning: Pass the following variable as a keyword arg: x. From version 0.12, the only valid positional argument will be `data`, and passing other arguments without an explicit keyword will result in an error or misinterpretation.\n",
      "  warnings.warn(\n"
     ]
    },
    {
     "name": "stdout",
     "output_type": "stream",
     "text": [
      "2505 have a utilization ratio greater than 100%\n",
      "5070800.0  is the maximum ratio of utilization expressed as a %\n"
     ]
    },
    {
     "data": {
      "image/png": "[encoded data removed]",
      "text/plain": [
       "<Figure size 720x576 with 1 Axes>"
      ]
     },
     "metadata": {
      "needs_background": "light"
     },
     "output_type": "display_data"
    }
   ],
   "source": [
    "# plot for utilization ratio greater 100%\n",
    "sns.countplot(x[x>100]).set_title('Revolving Utilization of Unsecured Lines greater than 100%')\n",
    "print(x[x>100].count(), 'have a utilization ratio greater than 100%')\n",
    "print(x.max(),' is the maximum ratio of utilization expressed as a %')"
   ]
  },
  {
   "cell_type": "markdown",
   "id": "0301aa7f",
   "metadata": {},
   "source": [
    "The graph shows distribution of **RevolvingUtilizationOfUnsecuredLines** between 100 and 5070800 being the maximum value. This counts a total of 2505 of our dataset. A ratio greater than 100% may show that the borrower over utilizes their credit limits and borrower may be perceived as a risky borrower from the perspective of lenders.The distribution is also right skewed."
   ]
  },
  {
   "cell_type": "code",
   "execution_count": 421,
   "id": "d8e4f30b",
   "metadata": {},
   "outputs": [
    {
     "data": {
      "text/plain": [
       "Text(0.5, 1.0, 'Correlation of variables')"
      ]
     },
     "execution_count": 421,
     "metadata": {},
     "output_type": "execute_result"
    },
    {
     "data": {
      "image/png": "[encoded data removed]",
      "text/plain": [
       "<Figure size 720x576 with 2 Axes>"
      ]
     },
     "metadata": {
      "needs_background": "light"
     },
     "output_type": "display_data"
    }
   ],
   "source": [
    "sns.heatmap(data.corr(), annot=True).set_title('Correlation of variables')"
   ]
  },
  {
   "cell_type": "markdown",
   "id": "db68dd68",
   "metadata": {},
   "source": [
    "The heatmap above shows the correlation of variables. Most variables are not correlated except for Number of Times overdue for 30-59, 60-89 and +90 days, which are strongly correlated at 97% and above"
   ]
  },
  {
   "cell_type": "markdown",
   "id": "1c105f87",
   "metadata": {},
   "source": [
    "# 4. Building Machine Learning Model - XGBoost Classifier"
   ]
  },
  {
   "cell_type": "markdown",
   "id": "aafbb7a7",
   "metadata": {},
   "source": [
    "# Techniques to deal with Imbalanced Classes"
   ]
  },
  {
   "cell_type": "markdown",
   "id": "b1079e03",
   "metadata": {},
   "source": [
    "Our dataset dependant variable is class imbalance. Predicting the dependant variable with imbalanced dataset will get high accuracy for the majority class but, however, fail to capture the minority class (Delinquency) which is most often a critical prediction we want to capture. To improve the accuracy of our algorithm, we need to apply techniques to deal with imbalanved dataset such as Resampling techniques (Undersampling), Random Oversampling Technique (ROSE), Synthetic Minority Oversampling Techniques (SMOTE). For the purposes of this project, we will only use SMOTE as our resampling technque."
   ]
  },
  {
   "cell_type": "code",
   "execution_count": 625,
   "id": "4e0e46e9",
   "metadata": {},
   "outputs": [],
   "source": [
    "#pip install -U imbalanced-learn"
   ]
  },
  {
   "cell_type": "code",
   "execution_count": 422,
   "id": "09ba722a",
   "metadata": {},
   "outputs": [],
   "source": [
    "# seperate data into x and y\n",
    "X = data.drop('SeriousDlqin2yrs', axis=1)\n",
    "y = data['SeriousDlqin2yrs']"
   ]
  },
  {
   "cell_type": "code",
   "execution_count": 423,
   "id": "14e48b33",
   "metadata": {},
   "outputs": [
    {
     "data": {
      "text/plain": [
       "Text(0.5, 1.0, 'Pie Chart ~ Imbalanced data')"
      ]
     },
     "execution_count": 423,
     "metadata": {},
     "output_type": "execute_result"
    },
    {
     "data": {
      "image/png": "[encoded data removed]",
      "text/plain": [
       "<Figure size 720x576 with 1 Axes>"
      ]
     },
     "metadata": {},
     "output_type": "display_data"
    }
   ],
   "source": [
    "y.value_counts().plot.pie(autopct='%.2f')\n",
    "plt.title('Pie Chart ~ Imbalanced data')"
   ]
  },
  {
   "cell_type": "code",
   "execution_count": 424,
   "id": "87d29af8",
   "metadata": {},
   "outputs": [
    {
     "data": {
      "text/plain": [
       "0    109727\n",
       "1      8273\n",
       "Name: SeriousDlqin2yrs, dtype: int64"
      ]
     },
     "execution_count": 424,
     "metadata": {},
     "output_type": "execute_result"
    }
   ],
   "source": [
    "y.value_counts()"
   ]
  },
  {
   "cell_type": "markdown",
   "id": "3ca516a4",
   "metadata": {},
   "source": [
    "# i. Random Undersampling Technique"
   ]
  },
  {
   "cell_type": "markdown",
   "id": "c37c3a56",
   "metadata": {},
   "source": [
    "This method randomly select and remove samples from the majority class, consequently reducing the number of samples in the majority class."
   ]
  },
  {
   "cell_type": "code",
   "execution_count": 425,
   "id": "f2d1e573",
   "metadata": {},
   "outputs": [],
   "source": [
    "from imblearn.under_sampling import RandomUnderSampler\n",
    "rus = RandomUnderSampler(random_state=101)\n",
    "X_rus, y_rus = rus.fit_resample(X, y)"
   ]
  },
  {
   "cell_type": "code",
   "execution_count": 426,
   "id": "9d23b62c",
   "metadata": {},
   "outputs": [
    {
     "data": {
      "text/plain": [
       "Text(0.5, 1.0, 'Pie Chart ~ Undersampling')"
      ]
     },
     "execution_count": 426,
     "metadata": {},
     "output_type": "execute_result"
    },
    {
     "data": {
      "image/png": "[encoded data removed]",
      "text/plain": [
       "<Figure size 720x576 with 1 Axes>"
      ]
     },
     "metadata": {},
     "output_type": "display_data"
    }
   ],
   "source": [
    "y_rus.value_counts().plot.pie(autopct='%.2f')\n",
    "plt.title('Pie Chart ~ Undersampling')"
   ]
  },
  {
   "cell_type": "code",
   "execution_count": 427,
   "id": "db6babd3",
   "metadata": {},
   "outputs": [
    {
     "data": {
      "text/plain": [
       "0    8273\n",
       "1    8273\n",
       "Name: SeriousDlqin2yrs, dtype: int64"
      ]
     },
     "execution_count": 427,
     "metadata": {},
     "output_type": "execute_result"
    }
   ],
   "source": [
    "y_rus.value_counts()"
   ]
  },
  {
   "cell_type": "markdown",
   "id": "da4e22c7",
   "metadata": {},
   "source": [
    "# ii. ROSE ~ Random Oversampling Technique"
   ]
  },
  {
   "cell_type": "markdown",
   "id": "c6e58c3b",
   "metadata": {},
   "source": [
    "This is the opposite of Undersampling whereby random samples from the minority class with dublicated to suppliment the minority class."
   ]
  },
  {
   "cell_type": "code",
   "execution_count": 428,
   "id": "38c17ca9",
   "metadata": {},
   "outputs": [],
   "source": [
    "from imblearn.over_sampling import RandomOverSampler\n",
    "ros = RandomOverSampler(random_state=101)\n",
    "X_ros, y_ros = ros.fit_resample(X,y)"
   ]
  },
  {
   "cell_type": "code",
   "execution_count": 429,
   "id": "04e8ace3",
   "metadata": {},
   "outputs": [
    {
     "data": {
      "text/plain": [
       "Text(0.5, 1.0, 'Pie Chart ~ OverSampling')"
      ]
     },
     "execution_count": 429,
     "metadata": {},
     "output_type": "execute_result"
    },
    {
     "data": {
      "image/png": "[encoded data removed]",
      "text/plain": [
       "<Figure size 720x576 with 1 Axes>"
      ]
     },
     "metadata": {},
     "output_type": "display_data"
    }
   ],
   "source": [
    "y_ros.value_counts().plot.pie(autopct='%.2f')\n",
    "plt.title('Pie Chart ~ OverSampling')"
   ]
  },
  {
   "cell_type": "code",
   "execution_count": 430,
   "id": "f24d6afb",
   "metadata": {},
   "outputs": [
    {
     "data": {
      "text/plain": [
       "1    109727\n",
       "0    109727\n",
       "Name: SeriousDlqin2yrs, dtype: int64"
      ]
     },
     "execution_count": 430,
     "metadata": {},
     "output_type": "execute_result"
    }
   ],
   "source": [
    "y_ros.value_counts()"
   ]
  },
  {
   "cell_type": "markdown",
   "id": "df91bc79",
   "metadata": {},
   "source": [
    "# iii. SMOTE ~ Synthetic Minority Oversampling Technique"
   ]
  },
  {
   "cell_type": "markdown",
   "id": "1a63caf3",
   "metadata": {},
   "source": [
    "SMOTE is an oversampling technique where the synthetic samples are generated for the minority class. This algorithm helps to overcome the overfitting problem posed by random oversampling"
   ]
  },
  {
   "cell_type": "code",
   "execution_count": 431,
   "id": "19eb08cf",
   "metadata": {},
   "outputs": [],
   "source": [
    "from imblearn.over_sampling import SMOTE\n",
    "sm = SMOTE(random_state=101)\n",
    "X_sm, y_sm = sm.fit_resample(X,y)"
   ]
  },
  {
   "cell_type": "code",
   "execution_count": 432,
   "id": "764cdd0c",
   "metadata": {},
   "outputs": [
    {
     "data": {
      "text/plain": [
       "Text(0.5, 1.0, 'Pie Chart ~ SMOTE')"
      ]
     },
     "execution_count": 432,
     "metadata": {},
     "output_type": "execute_result"
    },
    {
     "data": {
      "image/png": "[encoded data removed]",
      "text/plain": [
       "<Figure size 720x576 with 1 Axes>"
      ]
     },
     "metadata": {},
     "output_type": "display_data"
    }
   ],
   "source": [
    "y_sm.value_counts().plot.pie(autopct='%.2f')\n",
    "plt.title('Pie Chart ~ SMOTE')"
   ]
  },
  {
   "cell_type": "code",
   "execution_count": 433,
   "id": "8b4824b4",
   "metadata": {},
   "outputs": [
    {
     "data": {
      "text/plain": [
       "1    109727\n",
       "0    109727\n",
       "Name: SeriousDlqin2yrs, dtype: int64"
      ]
     },
     "execution_count": 433,
     "metadata": {},
     "output_type": "execute_result"
    }
   ],
   "source": [
    "y_sm.value_counts()"
   ]
  },
  {
   "cell_type": "markdown",
   "id": "dcf5ff23",
   "metadata": {},
   "source": [
    "## XGBoost Hyper parameters"
   ]
  },
  {
   "cell_type": "code",
   "execution_count": 434,
   "id": "8c56e5aa",
   "metadata": {},
   "outputs": [
    {
     "data": {
      "text/plain": [
       "{'objective': 'binary:logistic',\n",
       " 'use_label_encoder': False,\n",
       " 'base_score': None,\n",
       " 'booster': None,\n",
       " 'callbacks': None,\n",
       " 'colsample_bylevel': None,\n",
       " 'colsample_bynode': None,\n",
       " 'colsample_bytree': None,\n",
       " 'early_stopping_rounds': None,\n",
       " 'enable_categorical': False,\n",
       " 'eval_metric': None,\n",
       " 'gamma': None,\n",
       " 'gpu_id': None,\n",
       " 'grow_policy': None,\n",
       " 'importance_type': None,\n",
       " 'interaction_constraints': None,\n",
       " 'learning_rate': None,\n",
       " 'max_bin': None,\n",
       " 'max_cat_to_onehot': None,\n",
       " 'max_delta_step': None,\n",
       " 'max_depth': None,\n",
       " 'max_leaves': None,\n",
       " 'min_child_weight': None,\n",
       " 'missing': nan,\n",
       " 'monotone_constraints': None,\n",
       " 'n_estimators': 100,\n",
       " 'n_jobs': None,\n",
       " 'num_parallel_tree': None,\n",
       " 'predictor': None,\n",
       " 'random_state': None,\n",
       " 'reg_alpha': None,\n",
       " 'reg_lambda': None,\n",
       " 'sampling_method': None,\n",
       " 'scale_pos_weight': None,\n",
       " 'subsample': None,\n",
       " 'tree_method': None,\n",
       " 'validate_parameters': None,\n",
       " 'verbosity': None}"
      ]
     },
     "execution_count": 434,
     "metadata": {},
     "output_type": "execute_result"
    }
   ],
   "source": [
    "# getting hyper parameters for the model\n",
    "import xgboost\n",
    "xgboost.XGBClassifier().get_params()"
   ]
  },
  {
   "cell_type": "markdown",
   "id": "b545302f",
   "metadata": {},
   "source": [
    "The get_params() method provides a list of all the parameters that can be used in the model"
   ]
  },
  {
   "cell_type": "markdown",
   "id": "12b2c10c",
   "metadata": {},
   "source": [
    "# 4.1. XGBoost using Random Undersampling Technique"
   ]
  },
  {
   "cell_type": "code",
   "execution_count": 435,
   "id": "71484e62",
   "metadata": {},
   "outputs": [],
   "source": [
    "import xgboost\n",
    "#from sklearn.model_selection import GridSearchCV\n",
    "from sklearn.metrics import roc_auc_score"
   ]
  },
  {
   "cell_type": "code",
   "execution_count": 444,
   "id": "45366c70",
   "metadata": {},
   "outputs": [],
   "source": [
    "# split data into train and test\n",
    "from sklearn.model_selection import train_test_split\n",
    "X_train, X_test, y_train, y_test = train_test_split(X_rus, y_rus, test_size=0.3, random_state=101)"
   ]
  },
  {
   "cell_type": "markdown",
   "id": "b2906966",
   "metadata": {},
   "source": [
    "## Train the XGBoost Model "
   ]
  },
  {
   "cell_type": "code",
   "execution_count": 445,
   "id": "62186530",
   "metadata": {},
   "outputs": [
    {
     "data": {
      "text/html": [
       "<style>#sk-container-id-6 {color: black;background-color: white;}#sk-container-id-6 pre{padding: 0;}#sk-container-id-6 div.sk-toggleable {background-color: white;}#sk-container-id-6 label.sk-toggleable__label {cursor: pointer;display: block;width: 100%;margin-bottom: 0;padding: 0.3em;box-sizing: border-box;text-align: center;}#sk-container-id-6 label.sk-toggleable__label-arrow:before {content: \"▸\";float: left;margin-right: 0.25em;color: #696969;}#sk-container-id-6 label.sk-toggleable__label-arrow:hover:before {color: black;}#sk-container-id-6 div.sk-estimator:hover label.sk-toggleable__label-arrow:before {color: black;}#sk-container-id-6 div.sk-toggleable__content {max-height: 0;max-width: 0;overflow: hidden;text-align: left;background-color: #f0f8ff;}#sk-container-id-6 div.sk-toggleable__content pre {margin: 0.2em;color: black;border-radius: 0.25em;background-color: #f0f8ff;}#sk-container-id-6 input.sk-toggleable__control:checked~div.sk-toggleable__content {max-height: 200px;max-width: 100%;overflow: auto;}#sk-container-id-6 input.sk-toggleable__control:checked~label.sk-toggleable__label-arrow:before {content: \"▾\";}#sk-container-id-6 div.sk-estimator input.sk-toggleable__control:checked~label.sk-toggleable__label {background-color: #d4ebff;}#sk-container-id-6 div.sk-label input.sk-toggleable__control:checked~label.sk-toggleable__label {background-color: #d4ebff;}#sk-container-id-6 input.sk-hidden--visually {border: 0;clip: rect(1px 1px 1px 1px);clip: rect(1px, 1px, 1px, 1px);height: 1px;margin: -1px;overflow: hidden;padding: 0;position: absolute;width: 1px;}#sk-container-id-6 div.sk-estimator {font-family: monospace;background-color: #f0f8ff;border: 1px dotted black;border-radius: 0.25em;box-sizing: border-box;margin-bottom: 0.5em;}#sk-container-id-6 div.sk-estimator:hover {background-color: #d4ebff;}#sk-container-id-6 div.sk-parallel-item::after {content: \"\";width: 100%;border-bottom: 1px solid gray;flex-grow: 1;}#sk-container-id-6 div.sk-label:hover label.sk-toggleable__label {background-color: #d4ebff;}#sk-container-id-6 div.sk-serial::before {content: \"\";position: absolute;border-left: 1px solid gray;box-sizing: border-box;top: 0;bottom: 0;left: 50%;z-index: 0;}#sk-container-id-6 div.sk-serial {display: flex;flex-direction: column;align-items: center;background-color: white;padding-right: 0.2em;padding-left: 0.2em;position: relative;}#sk-container-id-6 div.sk-item {position: relative;z-index: 1;}#sk-container-id-6 div.sk-parallel {display: flex;align-items: stretch;justify-content: center;background-color: white;position: relative;}#sk-container-id-6 div.sk-item::before, #sk-container-id-6 div.sk-parallel-item::before {content: \"\";position: absolute;border-left: 1px solid gray;box-sizing: border-box;top: 0;bottom: 0;left: 50%;z-index: -1;}#sk-container-id-6 div.sk-parallel-item {display: flex;flex-direction: column;z-index: 1;position: relative;background-color: white;}#sk-container-id-6 div.sk-parallel-item:first-child::after {align-self: flex-end;width: 50%;}#sk-container-id-6 div.sk-parallel-item:last-child::after {align-self: flex-start;width: 50%;}#sk-container-id-6 div.sk-parallel-item:only-child::after {width: 0;}#sk-container-id-6 div.sk-dashed-wrapped {border: 1px dashed gray;margin: 0 0.4em 0.5em 0.4em;box-sizing: border-box;padding-bottom: 0.4em;background-color: white;}#sk-container-id-6 div.sk-label label {font-family: monospace;font-weight: bold;display: inline-block;line-height: 1.2em;}#sk-container-id-6 div.sk-label-container {text-align: center;}#sk-container-id-6 div.sk-container {/* jupyter's `normalize.less` sets `[hidden] { display: none; }` but bootstrap.min.css set `[hidden] { display: none !important; }` so we also need the `!important` here to be able to override the default hidden behavior on the sphinx rendered scikit-learn.org. See: https://github.com/scikit-learn/scikit-learn/issues/21755 */display: inline-block !important;position: relative;}#sk-container-id-6 div.sk-text-repr-fallback {display: none;}</style><div id=\"sk-container-id-6\" class=\"sk-top-container\"><div class=\"sk-text-repr-fallback\"><pre>XGBClassifier(base_score=0.5, booster=&#x27;gbtree&#x27;, callbacks=None,\n",
       "              colsample_bylevel=1, colsample_bynode=1, colsample_bytree=0.5,\n",
       "              early_stopping_rounds=None, enable_categorical=False,\n",
       "              eval_metric=&#x27;auc&#x27;, gamma=0, gpu_id=-1, grow_policy=&#x27;depthwise&#x27;,\n",
       "              importance_type=None, interaction_constraints=&#x27;&#x27;,\n",
       "              learning_rate=0.1, max_bin=256, max_cat_to_onehot=4,\n",
       "              max_delta_step=0, max_depth=5, max_leaves=0, min_child_weight=1,\n",
       "              missing=nan, monotone_constraints=&#x27;()&#x27;, n_estimators=5000,\n",
       "              n_jobs=0, num_parallel_tree=1, predictor=&#x27;auto&#x27;, random_state=0,\n",
       "              reg_alpha=0, reg_lambda=1, ...)</pre><b>In a Jupyter environment, please rerun this cell to show the HTML representation or trust the notebook. <br />On GitHub, the HTML representation is unable to render, please try loading this page with nbviewer.org.</b></div><div class=\"sk-container\" hidden><div class=\"sk-item\"><div class=\"sk-estimator sk-toggleable\"><input class=\"sk-toggleable__control sk-hidden--visually\" id=\"sk-estimator-id-6\" type=\"checkbox\" checked><label for=\"sk-estimator-id-6\" class=\"sk-toggleable__label sk-toggleable__label-arrow\">XGBClassifier</label><div class=\"sk-toggleable__content\"><pre>XGBClassifier(base_score=0.5, booster=&#x27;gbtree&#x27;, callbacks=None,\n",
       "              colsample_bylevel=1, colsample_bynode=1, colsample_bytree=0.5,\n",
       "              early_stopping_rounds=None, enable_categorical=False,\n",
       "              eval_metric=&#x27;auc&#x27;, gamma=0, gpu_id=-1, grow_policy=&#x27;depthwise&#x27;,\n",
       "              importance_type=None, interaction_constraints=&#x27;&#x27;,\n",
       "              learning_rate=0.1, max_bin=256, max_cat_to_onehot=4,\n",
       "              max_delta_step=0, max_depth=5, max_leaves=0, min_child_weight=1,\n",
       "              missing=nan, monotone_constraints=&#x27;()&#x27;, n_estimators=5000,\n",
       "              n_jobs=0, num_parallel_tree=1, predictor=&#x27;auto&#x27;, random_state=0,\n",
       "              reg_alpha=0, reg_lambda=1, ...)</pre></div></div></div></div></div>"
      ],
      "text/plain": [
       "XGBClassifier(base_score=0.5, booster='gbtree', callbacks=None,\n",
       "              colsample_bylevel=1, colsample_bynode=1, colsample_bytree=0.5,\n",
       "              early_stopping_rounds=None, enable_categorical=False,\n",
       "              eval_metric='auc', gamma=0, gpu_id=-1, grow_policy='depthwise',\n",
       "              importance_type=None, interaction_constraints='',\n",
       "              learning_rate=0.1, max_bin=256, max_cat_to_onehot=4,\n",
       "              max_delta_step=0, max_depth=5, max_leaves=0, min_child_weight=1,\n",
       "              missing=nan, monotone_constraints='()', n_estimators=5000,\n",
       "              n_jobs=0, num_parallel_tree=1, predictor='auto', random_state=0,\n",
       "              reg_alpha=0, reg_lambda=1, ...)"
      ]
     },
     "execution_count": 445,
     "metadata": {},
     "output_type": "execute_result"
    }
   ],
   "source": [
    "rus_xgboost = xgboost.XGBClassifier(learning_rate=0.1, #specifies how quickly the model fits the residual errors \n",
    "                                    max_depth=5, #how deep the tree's decision nodes can go\n",
    "                                    n_estimators=5000, # max number of trees the model can create\n",
    "                                    subsample=0.5, #fraction of the train set that can be used to train each tree\n",
    "                                    colsample_bytree=0.5, #fraction of the features that can be used to train each tree\n",
    "                                    eval_metric='auc', #evaluation metric used\n",
    "                                    verbosity=1)\n",
    "\n",
    "eval_set = [(X_test, y_test)]\n",
    "\n",
    "#\n",
    "rus_xgboost.fit(X_train, \n",
    "                 y_train,\n",
    "                early_stopping_rounds=10, #no new tree will be build if model perfomance does not change for 10 iterations\n",
    "                eval_set=eval_set,\n",
    "                verbose=False)"
   ]
  },
  {
   "cell_type": "markdown",
   "id": "4b795af0",
   "metadata": {},
   "source": [
    "## Make Predictions with XGBoost Model"
   ]
  },
  {
   "cell_type": "code",
   "execution_count": 435,
   "id": "e4dcc973",
   "metadata": {},
   "outputs": [],
   "source": [
    "rus_predictions = rus_xgboost.predict_proba(X_test)"
   ]
  },
  {
   "cell_type": "code",
   "execution_count": 436,
   "id": "890805e5",
   "metadata": {},
   "outputs": [],
   "source": [
    "rus_predictions11 = rus_xgboost.predict(X_test)"
   ]
  },
  {
   "cell_type": "code",
   "execution_count": 437,
   "id": "66820d12",
   "metadata": {},
   "outputs": [
    {
     "data": {
      "text/plain": [
       "array([1, 1, 0, ..., 0, 0, 1])"
      ]
     },
     "execution_count": 437,
     "metadata": {},
     "output_type": "execute_result"
    }
   ],
   "source": [
    "rus_predictions11"
   ]
  },
  {
   "cell_type": "code",
   "execution_count": 438,
   "id": "a3a6ae0e",
   "metadata": {},
   "outputs": [
    {
     "data": {
      "text/plain": [
       "array([[0.36028212, 0.6397179 ],\n",
       "       [0.04257262, 0.9574274 ],\n",
       "       [0.5532763 , 0.4467237 ],\n",
       "       ...,\n",
       "       [0.89280885, 0.10719113],\n",
       "       [0.8674255 , 0.13257451],\n",
       "       [0.4321044 , 0.5678956 ]], dtype=float32)"
      ]
     },
     "execution_count": 438,
     "metadata": {},
     "output_type": "execute_result"
    }
   ],
   "source": [
    "rus_predictions"
   ]
  },
  {
   "cell_type": "code",
   "execution_count": 439,
   "id": "7a2ed38f",
   "metadata": {},
   "outputs": [],
   "source": [
    "from sklearn.metrics import roc_auc_score, accuracy_score"
   ]
  },
  {
   "cell_type": "code",
   "execution_count": 444,
   "id": "be4413db",
   "metadata": {},
   "outputs": [],
   "source": [
    "rus_acc = accuracy_score(y_test,rus_predictions11)"
   ]
  },
  {
   "cell_type": "code",
   "execution_count": 445,
   "id": "6f9ee4ce",
   "metadata": {},
   "outputs": [
    {
     "data": {
      "text/plain": [
       "0.7748753738783649"
      ]
     },
     "execution_count": 445,
     "metadata": {},
     "output_type": "execute_result"
    }
   ],
   "source": [
    "rus_acc"
   ]
  },
  {
   "cell_type": "code",
   "execution_count": 446,
   "id": "55268dd6",
   "metadata": {},
   "outputs": [],
   "source": [
    "rus_roc_acc = roc_auc_score(y_test,rus_predictions11)"
   ]
  },
  {
   "cell_type": "code",
   "execution_count": 447,
   "id": "69bd89ec",
   "metadata": {},
   "outputs": [
    {
     "data": {
      "text/plain": [
       "0.7749011936286789"
      ]
     },
     "execution_count": 447,
     "metadata": {},
     "output_type": "execute_result"
    }
   ],
   "source": [
    "rus_roc_acc"
   ]
  },
  {
   "cell_type": "markdown",
   "id": "be955908",
   "metadata": {},
   "source": [
    "# 4.2. XGBoost Classifier using ROSE"
   ]
  },
  {
   "cell_type": "markdown",
   "id": "456ced2e",
   "metadata": {},
   "source": [
    "eXtreme Gradient Boosting  is one of the most widely used machine learning algorthims."
   ]
  },
  {
   "cell_type": "code",
   "execution_count": 24,
   "id": "123437b8",
   "metadata": {},
   "outputs": [],
   "source": [
    "import xgboost\n",
    "from sklearn.metrics import roc_auc_score"
   ]
  },
  {
   "cell_type": "code",
   "execution_count": 441,
   "id": "8f55071e",
   "metadata": {},
   "outputs": [],
   "source": [
    "# split data into train and test\n",
    "from sklearn.model_selection import train_test_split\n",
    "X_train, X_test, y_train, y_test = train_test_split(X_ros, y_ros, test_size=0.3, random_state=101)"
   ]
  },
  {
   "cell_type": "markdown",
   "id": "e60df22e",
   "metadata": {},
   "source": [
    "The training set will be used to prepare the XGBoost model and the test set will be used to make new predictions, from which we can evaluate the performance of the model."
   ]
  },
  {
   "cell_type": "markdown",
   "id": "974fc9f9",
   "metadata": {},
   "source": [
    "## Train the XGBoost Model"
   ]
  },
  {
   "cell_type": "code",
   "execution_count": 442,
   "id": "a1a72bbc",
   "metadata": {},
   "outputs": [
    {
     "data": {
      "text/html": [
       "<style>#sk-container-id-5 {color: black;background-color: white;}#sk-container-id-5 pre{padding: 0;}#sk-container-id-5 div.sk-toggleable {background-color: white;}#sk-container-id-5 label.sk-toggleable__label {cursor: pointer;display: block;width: 100%;margin-bottom: 0;padding: 0.3em;box-sizing: border-box;text-align: center;}#sk-container-id-5 label.sk-toggleable__label-arrow:before {content: \"▸\";float: left;margin-right: 0.25em;color: #696969;}#sk-container-id-5 label.sk-toggleable__label-arrow:hover:before {color: black;}#sk-container-id-5 div.sk-estimator:hover label.sk-toggleable__label-arrow:before {color: black;}#sk-container-id-5 div.sk-toggleable__content {max-height: 0;max-width: 0;overflow: hidden;text-align: left;background-color: #f0f8ff;}#sk-container-id-5 div.sk-toggleable__content pre {margin: 0.2em;color: black;border-radius: 0.25em;background-color: #f0f8ff;}#sk-container-id-5 input.sk-toggleable__control:checked~div.sk-toggleable__content {max-height: 200px;max-width: 100%;overflow: auto;}#sk-container-id-5 input.sk-toggleable__control:checked~label.sk-toggleable__label-arrow:before {content: \"▾\";}#sk-container-id-5 div.sk-estimator input.sk-toggleable__control:checked~label.sk-toggleable__label {background-color: #d4ebff;}#sk-container-id-5 div.sk-label input.sk-toggleable__control:checked~label.sk-toggleable__label {background-color: #d4ebff;}#sk-container-id-5 input.sk-hidden--visually {border: 0;clip: rect(1px 1px 1px 1px);clip: rect(1px, 1px, 1px, 1px);height: 1px;margin: -1px;overflow: hidden;padding: 0;position: absolute;width: 1px;}#sk-container-id-5 div.sk-estimator {font-family: monospace;background-color: #f0f8ff;border: 1px dotted black;border-radius: 0.25em;box-sizing: border-box;margin-bottom: 0.5em;}#sk-container-id-5 div.sk-estimator:hover {background-color: #d4ebff;}#sk-container-id-5 div.sk-parallel-item::after {content: \"\";width: 100%;border-bottom: 1px solid gray;flex-grow: 1;}#sk-container-id-5 div.sk-label:hover label.sk-toggleable__label {background-color: #d4ebff;}#sk-container-id-5 div.sk-serial::before {content: \"\";position: absolute;border-left: 1px solid gray;box-sizing: border-box;top: 0;bottom: 0;left: 50%;z-index: 0;}#sk-container-id-5 div.sk-serial {display: flex;flex-direction: column;align-items: center;background-color: white;padding-right: 0.2em;padding-left: 0.2em;position: relative;}#sk-container-id-5 div.sk-item {position: relative;z-index: 1;}#sk-container-id-5 div.sk-parallel {display: flex;align-items: stretch;justify-content: center;background-color: white;position: relative;}#sk-container-id-5 div.sk-item::before, #sk-container-id-5 div.sk-parallel-item::before {content: \"\";position: absolute;border-left: 1px solid gray;box-sizing: border-box;top: 0;bottom: 0;left: 50%;z-index: -1;}#sk-container-id-5 div.sk-parallel-item {display: flex;flex-direction: column;z-index: 1;position: relative;background-color: white;}#sk-container-id-5 div.sk-parallel-item:first-child::after {align-self: flex-end;width: 50%;}#sk-container-id-5 div.sk-parallel-item:last-child::after {align-self: flex-start;width: 50%;}#sk-container-id-5 div.sk-parallel-item:only-child::after {width: 0;}#sk-container-id-5 div.sk-dashed-wrapped {border: 1px dashed gray;margin: 0 0.4em 0.5em 0.4em;box-sizing: border-box;padding-bottom: 0.4em;background-color: white;}#sk-container-id-5 div.sk-label label {font-family: monospace;font-weight: bold;display: inline-block;line-height: 1.2em;}#sk-container-id-5 div.sk-label-container {text-align: center;}#sk-container-id-5 div.sk-container {/* jupyter's `normalize.less` sets `[hidden] { display: none; }` but bootstrap.min.css set `[hidden] { display: none !important; }` so we also need the `!important` here to be able to override the default hidden behavior on the sphinx rendered scikit-learn.org. See: https://github.com/scikit-learn/scikit-learn/issues/21755 */display: inline-block !important;position: relative;}#sk-container-id-5 div.sk-text-repr-fallback {display: none;}</style><div id=\"sk-container-id-5\" class=\"sk-top-container\"><div class=\"sk-text-repr-fallback\"><pre>XGBClassifier(base_score=0.5, booster=&#x27;gbtree&#x27;, callbacks=None,\n",
       "              colsample_bylevel=1, colsample_bynode=1, colsample_bytree=0.5,\n",
       "              early_stopping_rounds=None, enable_categorical=False,\n",
       "              eval_metric=&#x27;auc&#x27;, gamma=0, gpu_id=-1, grow_policy=&#x27;depthwise&#x27;,\n",
       "              importance_type=None, interaction_constraints=&#x27;&#x27;,\n",
       "              learning_rate=0.1, max_bin=256, max_cat_to_onehot=4,\n",
       "              max_delta_step=0, max_depth=5, max_leaves=0, min_child_weight=1,\n",
       "              missing=nan, monotone_constraints=&#x27;()&#x27;, n_estimators=5000,\n",
       "              n_jobs=0, num_parallel_tree=1, predictor=&#x27;auto&#x27;, random_state=0,\n",
       "              reg_alpha=0, reg_lambda=1, ...)</pre><b>In a Jupyter environment, please rerun this cell to show the HTML representation or trust the notebook. <br />On GitHub, the HTML representation is unable to render, please try loading this page with nbviewer.org.</b></div><div class=\"sk-container\" hidden><div class=\"sk-item\"><div class=\"sk-estimator sk-toggleable\"><input class=\"sk-toggleable__control sk-hidden--visually\" id=\"sk-estimator-id-5\" type=\"checkbox\" checked><label for=\"sk-estimator-id-5\" class=\"sk-toggleable__label sk-toggleable__label-arrow\">XGBClassifier</label><div class=\"sk-toggleable__content\"><pre>XGBClassifier(base_score=0.5, booster=&#x27;gbtree&#x27;, callbacks=None,\n",
       "              colsample_bylevel=1, colsample_bynode=1, colsample_bytree=0.5,\n",
       "              early_stopping_rounds=None, enable_categorical=False,\n",
       "              eval_metric=&#x27;auc&#x27;, gamma=0, gpu_id=-1, grow_policy=&#x27;depthwise&#x27;,\n",
       "              importance_type=None, interaction_constraints=&#x27;&#x27;,\n",
       "              learning_rate=0.1, max_bin=256, max_cat_to_onehot=4,\n",
       "              max_delta_step=0, max_depth=5, max_leaves=0, min_child_weight=1,\n",
       "              missing=nan, monotone_constraints=&#x27;()&#x27;, n_estimators=5000,\n",
       "              n_jobs=0, num_parallel_tree=1, predictor=&#x27;auto&#x27;, random_state=0,\n",
       "              reg_alpha=0, reg_lambda=1, ...)</pre></div></div></div></div></div>"
      ],
      "text/plain": [
       "XGBClassifier(base_score=0.5, booster='gbtree', callbacks=None,\n",
       "              colsample_bylevel=1, colsample_bynode=1, colsample_bytree=0.5,\n",
       "              early_stopping_rounds=None, enable_categorical=False,\n",
       "              eval_metric='auc', gamma=0, gpu_id=-1, grow_policy='depthwise',\n",
       "              importance_type=None, interaction_constraints='',\n",
       "              learning_rate=0.1, max_bin=256, max_cat_to_onehot=4,\n",
       "              max_delta_step=0, max_depth=5, max_leaves=0, min_child_weight=1,\n",
       "              missing=nan, monotone_constraints='()', n_estimators=5000,\n",
       "              n_jobs=0, num_parallel_tree=1, predictor='auto', random_state=0,\n",
       "              reg_alpha=0, reg_lambda=1, ...)"
      ]
     },
     "execution_count": 442,
     "metadata": {},
     "output_type": "execute_result"
    }
   ],
   "source": [
    "rose_xgboost = xgboost.XGBClassifier(learning_rate=0.1,\n",
    "                                    max_depth=5,\n",
    "                                    n_estimators=5000,\n",
    "                                    subsample=0.5,\n",
    "                                    colsample_bytree=0.5,\n",
    "                                    eval_metric='auc',\n",
    "                                    verbosity=1)\n",
    "\n",
    "eval_set = [(X_test, y_test)]\n",
    "\n",
    "rose_xgboost.fit(X_train, \n",
    "                 y_train,\n",
    "                early_stopping_rounds=10,\n",
    "                eval_set=eval_set,\n",
    "                verbose=False)"
   ]
  },
  {
   "cell_type": "markdown",
   "id": "2b330adb",
   "metadata": {},
   "source": [
    "## Make Predictions with XGBoost Model"
   ]
  },
  {
   "cell_type": "code",
   "execution_count": 451,
   "id": "9a858c51",
   "metadata": {},
   "outputs": [],
   "source": [
    "rose_predictions = rose_xgboost.predict_proba(X_test)\n"
   ]
  },
  {
   "cell_type": "code",
   "execution_count": 452,
   "id": "1fd594a9",
   "metadata": {},
   "outputs": [
    {
     "data": {
      "text/plain": [
       "array([[0.9898154 , 0.01018458],\n",
       "       [0.39835298, 0.601647  ],\n",
       "       [0.9898641 , 0.01013588],\n",
       "       ...,\n",
       "       [0.6881728 , 0.31182718],\n",
       "       [0.9957818 , 0.00421824],\n",
       "       [0.2334106 , 0.7665894 ]], dtype=float32)"
      ]
     },
     "execution_count": 452,
     "metadata": {},
     "output_type": "execute_result"
    }
   ],
   "source": [
    "rose_predictions"
   ]
  },
  {
   "cell_type": "code",
   "execution_count": 453,
   "id": "697c32f5",
   "metadata": {},
   "outputs": [],
   "source": [
    "rose_predictions11 = rose_xgboost.predict(X_test)"
   ]
  },
  {
   "cell_type": "code",
   "execution_count": 454,
   "id": "0d9fee4e",
   "metadata": {},
   "outputs": [
    {
     "data": {
      "text/plain": [
       "array([0, 1, 0, ..., 0, 0, 1])"
      ]
     },
     "execution_count": 454,
     "metadata": {},
     "output_type": "execute_result"
    }
   ],
   "source": [
    "rose_predictions11"
   ]
  },
  {
   "cell_type": "code",
   "execution_count": 455,
   "id": "afe3315d",
   "metadata": {},
   "outputs": [],
   "source": [
    "rose_roc_acc = roc_auc_score(y_test,rose_predictions11)"
   ]
  },
  {
   "cell_type": "code",
   "execution_count": 456,
   "id": "0f1fae7c",
   "metadata": {},
   "outputs": [
    {
     "data": {
      "text/plain": [
       "0.9451371472424364"
      ]
     },
     "execution_count": 456,
     "metadata": {},
     "output_type": "execute_result"
    }
   ],
   "source": [
    "rose_roc_acc"
   ]
  },
  {
   "cell_type": "code",
   "execution_count": 457,
   "id": "1352c6b7",
   "metadata": {},
   "outputs": [],
   "source": [
    "rose_acc = accuracy_score(y_test,rose_predictions11)"
   ]
  },
  {
   "cell_type": "code",
   "execution_count": 458,
   "id": "e172216f",
   "metadata": {},
   "outputs": [
    {
     "data": {
      "text/plain": [
       "0.9450765473282897"
      ]
     },
     "execution_count": 458,
     "metadata": {},
     "output_type": "execute_result"
    }
   ],
   "source": [
    "rose_acc"
   ]
  },
  {
   "cell_type": "markdown",
   "id": "1a98014d",
   "metadata": {},
   "source": [
    "# 4.3. XGBoost Classifier using SMOTE"
   ]
  },
  {
   "cell_type": "code",
   "execution_count": 439,
   "id": "3729925c",
   "metadata": {},
   "outputs": [],
   "source": [
    "# split data into train and test\n",
    "from sklearn.model_selection import train_test_split\n",
    "X_train, X_test, y_train, y_test = train_test_split(X_sm, y_sm, test_size=0.3, random_state=101)"
   ]
  },
  {
   "cell_type": "code",
   "execution_count": 440,
   "id": "1b9884b3",
   "metadata": {},
   "outputs": [
    {
     "data": {
      "text/html": [
       "<style>#sk-container-id-4 {color: black;background-color: white;}#sk-container-id-4 pre{padding: 0;}#sk-container-id-4 div.sk-toggleable {background-color: white;}#sk-container-id-4 label.sk-toggleable__label {cursor: pointer;display: block;width: 100%;margin-bottom: 0;padding: 0.3em;box-sizing: border-box;text-align: center;}#sk-container-id-4 label.sk-toggleable__label-arrow:before {content: \"▸\";float: left;margin-right: 0.25em;color: #696969;}#sk-container-id-4 label.sk-toggleable__label-arrow:hover:before {color: black;}#sk-container-id-4 div.sk-estimator:hover label.sk-toggleable__label-arrow:before {color: black;}#sk-container-id-4 div.sk-toggleable__content {max-height: 0;max-width: 0;overflow: hidden;text-align: left;background-color: #f0f8ff;}#sk-container-id-4 div.sk-toggleable__content pre {margin: 0.2em;color: black;border-radius: 0.25em;background-color: #f0f8ff;}#sk-container-id-4 input.sk-toggleable__control:checked~div.sk-toggleable__content {max-height: 200px;max-width: 100%;overflow: auto;}#sk-container-id-4 input.sk-toggleable__control:checked~label.sk-toggleable__label-arrow:before {content: \"▾\";}#sk-container-id-4 div.sk-estimator input.sk-toggleable__control:checked~label.sk-toggleable__label {background-color: #d4ebff;}#sk-container-id-4 div.sk-label input.sk-toggleable__control:checked~label.sk-toggleable__label {background-color: #d4ebff;}#sk-container-id-4 input.sk-hidden--visually {border: 0;clip: rect(1px 1px 1px 1px);clip: rect(1px, 1px, 1px, 1px);height: 1px;margin: -1px;overflow: hidden;padding: 0;position: absolute;width: 1px;}#sk-container-id-4 div.sk-estimator {font-family: monospace;background-color: #f0f8ff;border: 1px dotted black;border-radius: 0.25em;box-sizing: border-box;margin-bottom: 0.5em;}#sk-container-id-4 div.sk-estimator:hover {background-color: #d4ebff;}#sk-container-id-4 div.sk-parallel-item::after {content: \"\";width: 100%;border-bottom: 1px solid gray;flex-grow: 1;}#sk-container-id-4 div.sk-label:hover label.sk-toggleable__label {background-color: #d4ebff;}#sk-container-id-4 div.sk-serial::before {content: \"\";position: absolute;border-left: 1px solid gray;box-sizing: border-box;top: 0;bottom: 0;left: 50%;z-index: 0;}#sk-container-id-4 div.sk-serial {display: flex;flex-direction: column;align-items: center;background-color: white;padding-right: 0.2em;padding-left: 0.2em;position: relative;}#sk-container-id-4 div.sk-item {position: relative;z-index: 1;}#sk-container-id-4 div.sk-parallel {display: flex;align-items: stretch;justify-content: center;background-color: white;position: relative;}#sk-container-id-4 div.sk-item::before, #sk-container-id-4 div.sk-parallel-item::before {content: \"\";position: absolute;border-left: 1px solid gray;box-sizing: border-box;top: 0;bottom: 0;left: 50%;z-index: -1;}#sk-container-id-4 div.sk-parallel-item {display: flex;flex-direction: column;z-index: 1;position: relative;background-color: white;}#sk-container-id-4 div.sk-parallel-item:first-child::after {align-self: flex-end;width: 50%;}#sk-container-id-4 div.sk-parallel-item:last-child::after {align-self: flex-start;width: 50%;}#sk-container-id-4 div.sk-parallel-item:only-child::after {width: 0;}#sk-container-id-4 div.sk-dashed-wrapped {border: 1px dashed gray;margin: 0 0.4em 0.5em 0.4em;box-sizing: border-box;padding-bottom: 0.4em;background-color: white;}#sk-container-id-4 div.sk-label label {font-family: monospace;font-weight: bold;display: inline-block;line-height: 1.2em;}#sk-container-id-4 div.sk-label-container {text-align: center;}#sk-container-id-4 div.sk-container {/* jupyter's `normalize.less` sets `[hidden] { display: none; }` but bootstrap.min.css set `[hidden] { display: none !important; }` so we also need the `!important` here to be able to override the default hidden behavior on the sphinx rendered scikit-learn.org. See: https://github.com/scikit-learn/scikit-learn/issues/21755 */display: inline-block !important;position: relative;}#sk-container-id-4 div.sk-text-repr-fallback {display: none;}</style><div id=\"sk-container-id-4\" class=\"sk-top-container\"><div class=\"sk-text-repr-fallback\"><pre>XGBClassifier(base_score=0.5, booster=&#x27;gbtree&#x27;, callbacks=None,\n",
       "              colsample_bylevel=1, colsample_bynode=1, colsample_bytree=0.5,\n",
       "              early_stopping_rounds=None, enable_categorical=False,\n",
       "              eval_metric=&#x27;auc&#x27;, gamma=0, gpu_id=-1, grow_policy=&#x27;depthwise&#x27;,\n",
       "              importance_type=None, interaction_constraints=&#x27;&#x27;,\n",
       "              learning_rate=0.1, max_bin=256, max_cat_to_onehot=4,\n",
       "              max_delta_step=0, max_depth=5, max_leaves=0, min_child_weight=1,\n",
       "              missing=nan, monotone_constraints=&#x27;()&#x27;, n_estimators=5000,\n",
       "              n_jobs=0, num_parallel_tree=1, predictor=&#x27;auto&#x27;, random_state=0,\n",
       "              reg_alpha=0, reg_lambda=1, ...)</pre><b>In a Jupyter environment, please rerun this cell to show the HTML representation or trust the notebook. <br />On GitHub, the HTML representation is unable to render, please try loading this page with nbviewer.org.</b></div><div class=\"sk-container\" hidden><div class=\"sk-item\"><div class=\"sk-estimator sk-toggleable\"><input class=\"sk-toggleable__control sk-hidden--visually\" id=\"sk-estimator-id-4\" type=\"checkbox\" checked><label for=\"sk-estimator-id-4\" class=\"sk-toggleable__label sk-toggleable__label-arrow\">XGBClassifier</label><div class=\"sk-toggleable__content\"><pre>XGBClassifier(base_score=0.5, booster=&#x27;gbtree&#x27;, callbacks=None,\n",
       "              colsample_bylevel=1, colsample_bynode=1, colsample_bytree=0.5,\n",
       "              early_stopping_rounds=None, enable_categorical=False,\n",
       "              eval_metric=&#x27;auc&#x27;, gamma=0, gpu_id=-1, grow_policy=&#x27;depthwise&#x27;,\n",
       "              importance_type=None, interaction_constraints=&#x27;&#x27;,\n",
       "              learning_rate=0.1, max_bin=256, max_cat_to_onehot=4,\n",
       "              max_delta_step=0, max_depth=5, max_leaves=0, min_child_weight=1,\n",
       "              missing=nan, monotone_constraints=&#x27;()&#x27;, n_estimators=5000,\n",
       "              n_jobs=0, num_parallel_tree=1, predictor=&#x27;auto&#x27;, random_state=0,\n",
       "              reg_alpha=0, reg_lambda=1, ...)</pre></div></div></div></div></div>"
      ],
      "text/plain": [
       "XGBClassifier(base_score=0.5, booster='gbtree', callbacks=None,\n",
       "              colsample_bylevel=1, colsample_bynode=1, colsample_bytree=0.5,\n",
       "              early_stopping_rounds=None, enable_categorical=False,\n",
       "              eval_metric='auc', gamma=0, gpu_id=-1, grow_policy='depthwise',\n",
       "              importance_type=None, interaction_constraints='',\n",
       "              learning_rate=0.1, max_bin=256, max_cat_to_onehot=4,\n",
       "              max_delta_step=0, max_depth=5, max_leaves=0, min_child_weight=1,\n",
       "              missing=nan, monotone_constraints='()', n_estimators=5000,\n",
       "              n_jobs=0, num_parallel_tree=1, predictor='auto', random_state=0,\n",
       "              reg_alpha=0, reg_lambda=1, ...)"
      ]
     },
     "execution_count": 440,
     "metadata": {},
     "output_type": "execute_result"
    }
   ],
   "source": [
    "smote_xgboost = xgboost.XGBClassifier(learning_rate=0.1,\n",
    "                                    max_depth=5,\n",
    "                                    n_estimators=5000,\n",
    "                                    subsample=0.5,\n",
    "                                    colsample_bytree=0.5,\n",
    "                                    eval_metric='auc',\n",
    "                                    verbosity=1)\n",
    "\n",
    "eval_set = [(X_test, y_test)]\n",
    "\n",
    "smote_xgboost.fit(X_train, \n",
    "                 y_train,\n",
    "                early_stopping_rounds=10,\n",
    "                eval_set=eval_set,\n",
    "                verbose=False)"
   ]
  },
  {
   "cell_type": "markdown",
   "id": "73b61aea",
   "metadata": {},
   "source": [
    "## Make Predictions with XGBoost Model"
   ]
  },
  {
   "cell_type": "code",
   "execution_count": 463,
   "id": "3eaffdbd",
   "metadata": {},
   "outputs": [],
   "source": [
    "smote_predictions = smote_xgboost.predict_proba(X_test)"
   ]
  },
  {
   "cell_type": "code",
   "execution_count": 464,
   "id": "ac3e150c",
   "metadata": {},
   "outputs": [
    {
     "data": {
      "text/plain": [
       "array([[0.9956046 , 0.00439544],\n",
       "       [0.47185683, 0.52814317],\n",
       "       [0.9608243 , 0.0391757 ],\n",
       "       ...,\n",
       "       [0.8518412 , 0.1481588 ],\n",
       "       [0.99189013, 0.00810986],\n",
       "       [0.8921109 , 0.10788912]], dtype=float32)"
      ]
     },
     "execution_count": 464,
     "metadata": {},
     "output_type": "execute_result"
    }
   ],
   "source": [
    "smote_predictions"
   ]
  },
  {
   "cell_type": "code",
   "execution_count": 465,
   "id": "4460a8c2",
   "metadata": {},
   "outputs": [],
   "source": [
    "smote_predictions11 = smote_xgboost.predict(X_test)"
   ]
  },
  {
   "cell_type": "code",
   "execution_count": 466,
   "id": "c82c99ed",
   "metadata": {},
   "outputs": [],
   "source": [
    "smote_roc_auc = roc_auc_score(y_test,smote_predictions11)"
   ]
  },
  {
   "cell_type": "code",
   "execution_count": 467,
   "id": "73e2e8c8",
   "metadata": {},
   "outputs": [
    {
     "data": {
      "text/plain": [
       "0.8842953399835005"
      ]
     },
     "execution_count": 467,
     "metadata": {},
     "output_type": "execute_result"
    }
   ],
   "source": [
    "smote_roc_auc "
   ]
  },
  {
   "cell_type": "code",
   "execution_count": 468,
   "id": "79448a10",
   "metadata": {},
   "outputs": [],
   "source": [
    "smote_roc = accuracy_score(y_test,smote_predictions11)"
   ]
  },
  {
   "cell_type": "code",
   "execution_count": 469,
   "id": "68e766d8",
   "metadata": {},
   "outputs": [
    {
     "data": {
      "text/plain": [
       "0.8843450288914041"
      ]
     },
     "execution_count": 469,
     "metadata": {},
     "output_type": "execute_result"
    }
   ],
   "source": [
    "smote_roc"
   ]
  },
  {
   "cell_type": "markdown",
   "id": "33b210bd",
   "metadata": {},
   "source": [
    "# 5. Results for the Best Resampling Technique"
   ]
  },
  {
   "cell_type": "code",
   "execution_count": 482,
   "id": "e4f7a0f2",
   "metadata": {},
   "outputs": [
    {
     "data": {
      "text/html": [
       "<div>\n",
       "<style scoped>\n",
       "    .dataframe tbody tr th:only-of-type {\n",
       "        vertical-align: middle;\n",
       "    }\n",
       "\n",
       "    .dataframe tbody tr th {\n",
       "        vertical-align: top;\n",
       "    }\n",
       "\n",
       "    .dataframe thead th {\n",
       "        text-align: right;\n",
       "    }\n",
       "</style>\n",
       "<table border=\"1\" class=\"dataframe\">\n",
       "  <thead>\n",
       "    <tr style=\"text-align: right;\">\n",
       "      <th></th>\n",
       "      <th>MODELS</th>\n",
       "      <th>Accuracy</th>\n",
       "      <th>ROC_AUC</th>\n",
       "    </tr>\n",
       "  </thead>\n",
       "  <tbody>\n",
       "    <tr>\n",
       "      <th>0</th>\n",
       "      <td>Random_Under</td>\n",
       "      <td>0.774875</td>\n",
       "      <td>0.774901</td>\n",
       "    </tr>\n",
       "    <tr>\n",
       "      <th>1</th>\n",
       "      <td>Random_Over</td>\n",
       "      <td>0.945077</td>\n",
       "      <td>0.945137</td>\n",
       "    </tr>\n",
       "    <tr>\n",
       "      <th>2</th>\n",
       "      <td>Synthetic_Minority</td>\n",
       "      <td>0.884345</td>\n",
       "      <td>0.884295</td>\n",
       "    </tr>\n",
       "  </tbody>\n",
       "</table>\n",
       "</div>"
      ],
      "text/plain": [
       "               MODELS  Accuracy   ROC_AUC\n",
       "0        Random_Under  0.774875  0.774901\n",
       "1         Random_Over  0.945077  0.945137\n",
       "2  Synthetic_Minority  0.884345  0.884295"
      ]
     },
     "execution_count": 482,
     "metadata": {},
     "output_type": "execute_result"
    }
   ],
   "source": [
    "# import pandas library\n",
    "import pandas as pd\n",
    "details = {\n",
    "    'Accuracy' : [rus_acc, rose_acc, smote_roc],\n",
    "    'ROC_AUC' : [rus_roc_acc, rose_roc_acc, smote_roc_auc],\n",
    "}\n",
    "\n",
    "# creating a Dataframe object from dictionary with custom indexing of models\n",
    "df = pd.DataFrame(details, index = ['Random_Under', 'Random_Over','Synthetic_Minority'])\n",
    "df.reset_index(inplace=True)\n",
    "df = df.rename(columns = {'index':'MODELS'})\n",
    "df"
   ]
  },
  {
   "cell_type": "code",
   "execution_count": 483,
   "id": "8dd89f8f",
   "metadata": {},
   "outputs": [
    {
     "data": {
      "text/plain": [
       "[Text(0.5, 1.0, 'ROC AUC')]"
      ]
     },
     "execution_count": 483,
     "metadata": {},
     "output_type": "execute_result"
    },
    {
     "data": {
      "image/png": "[encoded data removed]",
      "text/plain": [
       "<Figure size 720x576 with 1 Axes>"
      ]
     },
     "metadata": {
      "needs_background": "light"
     },
     "output_type": "display_data"
    }
   ],
   "source": [
    "#plotting for r-squared error\n",
    "sns.barplot(x ='MODELS',y='ROC_AUC', data = df).set(title='ROC AUC')"
   ]
  },
  {
   "cell_type": "markdown",
   "id": "39d9d5d1",
   "metadata": {},
   "source": [
    "The Receiver Operator Characteristic (ROC) curve is an evaluation metric for binary classification problems.\n",
    "The Area Under the Curve (AUC) is the measure of the ability of a classifier to distinguish between classes and is used as a summary of the ROC curve. The higher the AUC, the better the performance of the model at distinguishing between the positive and negative classes.\n",
    "\n",
    "The best Resampling technique using the ROC-AUC as an evaluation metric is the Random Oversampling technique which has a roc auc of 0.9451, followed by the Synthetic Minority Oversampling Technique which also has a good roc auc of 0.8842. Since the results of ROSE resampling technique are significantly better than the SMOTE technique, we will therefore use the ROSE in building our final model."
   ]
  },
  {
   "cell_type": "markdown",
   "id": "116b4a0b",
   "metadata": {},
   "source": [
    "# 6. Hyperparameter Optimization with GridSearchCV"
   ]
  },
  {
   "cell_type": "code",
   "execution_count": 181,
   "id": "9d1427f6",
   "metadata": {},
   "outputs": [],
   "source": [
    "import xgboost\n",
    "from sklearn.model_selection import GridSearchCV\n",
    "from sklearn.metrics import roc_auc_score\n",
    "from sklearn.metrics import auc, accuracy_score, confusion_matrix, classification_report\n",
    "from sklearn.metrics import roc_auc_score, balanced_accuracy_score, make_scorer"
   ]
  },
  {
   "cell_type": "code",
   "execution_count": 43,
   "id": "7da9f468",
   "metadata": {},
   "outputs": [],
   "source": [
    "# using ROSE as a sampling technique\n",
    "from sklearn.model_selection import train_test_split\n",
    "X_train, X_test, y_train, y_test = train_test_split(X_ros, y_ros, test_size=0.3, random_state=101)"
   ]
  },
  {
   "cell_type": "code",
   "execution_count": 474,
   "id": "ea4ea524",
   "metadata": {},
   "outputs": [],
   "source": [
    "#creating a dictionary of hyper parameters\n",
    "param_grid = {\n",
    "    \"max_depth\": [4, 5, 7],\n",
    "    \"learning_rate\": [0.1, 0.01],\n",
    "    \"n_estimators\":[3000, 5000],\n",
    "}"
   ]
  },
  {
   "cell_type": "code",
   "execution_count": 475,
   "id": "cd5d7d59",
   "metadata": {},
   "outputs": [
    {
     "name": "stdout",
     "output_type": "stream",
     "text": [
      "Fitting 3 folds for each of 12 candidates, totalling 36 fits\n",
      "[CV 1/3] END learning_rate=0.1, max_depth=4, n_estimators=3000;, score=(train=0.911, test=0.878) total time= 2.5min\n",
      "[CV 2/3] END learning_rate=0.1, max_depth=4, n_estimators=3000;, score=(train=0.910, test=0.880) total time= 2.5min\n",
      "[CV 3/3] END learning_rate=0.1, max_depth=4, n_estimators=3000;, score=(train=0.911, test=0.878) total time= 2.5min\n",
      "[CV 1/3] END learning_rate=0.1, max_depth=4, n_estimators=5000;, score=(train=0.947, test=0.909) total time= 4.2min\n",
      "[CV 2/3] END learning_rate=0.1, max_depth=4, n_estimators=5000;, score=(train=0.946, test=0.909) total time= 4.2min\n",
      "[CV 3/3] END learning_rate=0.1, max_depth=4, n_estimators=5000;, score=(train=0.947, test=0.908) total time= 4.2min\n",
      "[CV 1/3] END learning_rate=0.1, max_depth=5, n_estimators=3000;, score=(train=0.958, test=0.919) total time= 3.0min\n",
      "[CV 2/3] END learning_rate=0.1, max_depth=5, n_estimators=3000;, score=(train=0.958, test=0.919) total time= 3.0min\n",
      "[CV 3/3] END learning_rate=0.1, max_depth=5, n_estimators=3000;, score=(train=0.958, test=0.918) total time= 3.0min\n",
      "[CV 1/3] END learning_rate=0.1, max_depth=5, n_estimators=5000;, score=(train=0.985, test=0.943) total time=26.4min\n",
      "[CV 2/3] END learning_rate=0.1, max_depth=5, n_estimators=5000;, score=(train=0.984, test=0.943) total time= 5.1min\n",
      "[CV 3/3] END learning_rate=0.1, max_depth=5, n_estimators=5000;, score=(train=0.984, test=0.942) total time= 5.0min\n",
      "[CV 1/3] END learning_rate=0.1, max_depth=7, n_estimators=3000;, score=(train=0.998, test=0.958) total time= 4.1min\n",
      "[CV 2/3] END learning_rate=0.1, max_depth=7, n_estimators=3000;, score=(train=0.998, test=0.960) total time= 4.1min\n",
      "[CV 3/3] END learning_rate=0.1, max_depth=7, n_estimators=3000;, score=(train=0.998, test=0.958) total time= 4.2min\n",
      "[CV 1/3] END learning_rate=0.1, max_depth=7, n_estimators=5000;, score=(train=1.000, test=0.964) total time=117.1min\n",
      "[CV 2/3] END learning_rate=0.1, max_depth=7, n_estimators=5000;, score=(train=1.000, test=0.965) total time= 6.8min\n",
      "[CV 3/3] END learning_rate=0.1, max_depth=7, n_estimators=5000;, score=(train=1.000, test=0.963) total time= 6.7min\n",
      "[CV 1/3] END learning_rate=0.01, max_depth=4, n_estimators=3000;, score=(train=0.802, test=0.797) total time= 2.6min\n",
      "[CV 2/3] END learning_rate=0.01, max_depth=4, n_estimators=3000;, score=(train=0.802, test=0.797) total time= 2.5min\n",
      "[CV 3/3] END learning_rate=0.01, max_depth=4, n_estimators=3000;, score=(train=0.803, test=0.796) total time= 2.5min\n",
      "[CV 1/3] END learning_rate=0.01, max_depth=4, n_estimators=5000;, score=(train=0.817, test=0.807) total time= 4.2min\n",
      "[CV 2/3] END learning_rate=0.01, max_depth=4, n_estimators=5000;, score=(train=0.815, test=0.808) total time= 4.3min\n",
      "[CV 3/3] END learning_rate=0.01, max_depth=4, n_estimators=5000;, score=(train=0.817, test=0.805) total time= 4.2min\n",
      "[CV 1/3] END learning_rate=0.01, max_depth=5, n_estimators=3000;, score=(train=0.821, test=0.810) total time= 3.0min\n",
      "[CV 2/3] END learning_rate=0.01, max_depth=5, n_estimators=3000;, score=(train=0.819, test=0.811) total time= 3.0min\n",
      "[CV 3/3] END learning_rate=0.01, max_depth=5, n_estimators=3000;, score=(train=0.820, test=0.808) total time= 3.0min\n",
      "[CV 1/3] END learning_rate=0.01, max_depth=5, n_estimators=5000;, score=(train=0.842, test=0.826) total time= 5.1min\n",
      "[CV 2/3] END learning_rate=0.01, max_depth=5, n_estimators=5000;, score=(train=0.840, test=0.827) total time= 5.1min\n",
      "[CV 3/3] END learning_rate=0.01, max_depth=5, n_estimators=5000;, score=(train=0.842, test=0.825) total time= 5.3min\n",
      "[CV 1/3] END learning_rate=0.01, max_depth=7, n_estimators=3000;, score=(train=0.870, test=0.849) total time= 4.1min\n",
      "[CV 2/3] END learning_rate=0.01, max_depth=7, n_estimators=3000;, score=(train=0.869, test=0.849) total time= 4.1min\n",
      "[CV 3/3] END learning_rate=0.01, max_depth=7, n_estimators=3000;, score=(train=0.869, test=0.847) total time= 4.1min\n",
      "[CV 1/3] END learning_rate=0.01, max_depth=7, n_estimators=5000;, score=(train=0.904, test=0.875) total time= 6.9min\n",
      "[CV 2/3] END learning_rate=0.01, max_depth=7, n_estimators=5000;, score=(train=0.903, test=0.876) total time= 6.9min\n",
      "[CV 3/3] END learning_rate=0.01, max_depth=7, n_estimators=5000;, score=(train=0.907, test=0.878) total time= 6.9min\n"
     ]
    },
    {
     "data": {
      "text/html": [
       "<style>#sk-container-id-15 {color: black;background-color: white;}#sk-container-id-15 pre{padding: 0;}#sk-container-id-15 div.sk-toggleable {background-color: white;}#sk-container-id-15 label.sk-toggleable__label {cursor: pointer;display: block;width: 100%;margin-bottom: 0;padding: 0.3em;box-sizing: border-box;text-align: center;}#sk-container-id-15 label.sk-toggleable__label-arrow:before {content: \"▸\";float: left;margin-right: 0.25em;color: #696969;}#sk-container-id-15 label.sk-toggleable__label-arrow:hover:before {color: black;}#sk-container-id-15 div.sk-estimator:hover label.sk-toggleable__label-arrow:before {color: black;}#sk-container-id-15 div.sk-toggleable__content {max-height: 0;max-width: 0;overflow: hidden;text-align: left;background-color: #f0f8ff;}#sk-container-id-15 div.sk-toggleable__content pre {margin: 0.2em;color: black;border-radius: 0.25em;background-color: #f0f8ff;}#sk-container-id-15 input.sk-toggleable__control:checked~div.sk-toggleable__content {max-height: 200px;max-width: 100%;overflow: auto;}#sk-container-id-15 input.sk-toggleable__control:checked~label.sk-toggleable__label-arrow:before {content: \"▾\";}#sk-container-id-15 div.sk-estimator input.sk-toggleable__control:checked~label.sk-toggleable__label {background-color: #d4ebff;}#sk-container-id-15 div.sk-label input.sk-toggleable__control:checked~label.sk-toggleable__label {background-color: #d4ebff;}#sk-container-id-15 input.sk-hidden--visually {border: 0;clip: rect(1px 1px 1px 1px);clip: rect(1px, 1px, 1px, 1px);height: 1px;margin: -1px;overflow: hidden;padding: 0;position: absolute;width: 1px;}#sk-container-id-15 div.sk-estimator {font-family: monospace;background-color: #f0f8ff;border: 1px dotted black;border-radius: 0.25em;box-sizing: border-box;margin-bottom: 0.5em;}#sk-container-id-15 div.sk-estimator:hover {background-color: #d4ebff;}#sk-container-id-15 div.sk-parallel-item::after {content: \"\";width: 100%;border-bottom: 1px solid gray;flex-grow: 1;}#sk-container-id-15 div.sk-label:hover label.sk-toggleable__label {background-color: #d4ebff;}#sk-container-id-15 div.sk-serial::before {content: \"\";position: absolute;border-left: 1px solid gray;box-sizing: border-box;top: 0;bottom: 0;left: 50%;z-index: 0;}#sk-container-id-15 div.sk-serial {display: flex;flex-direction: column;align-items: center;background-color: white;padding-right: 0.2em;padding-left: 0.2em;position: relative;}#sk-container-id-15 div.sk-item {position: relative;z-index: 1;}#sk-container-id-15 div.sk-parallel {display: flex;align-items: stretch;justify-content: center;background-color: white;position: relative;}#sk-container-id-15 div.sk-item::before, #sk-container-id-15 div.sk-parallel-item::before {content: \"\";position: absolute;border-left: 1px solid gray;box-sizing: border-box;top: 0;bottom: 0;left: 50%;z-index: -1;}#sk-container-id-15 div.sk-parallel-item {display: flex;flex-direction: column;z-index: 1;position: relative;background-color: white;}#sk-container-id-15 div.sk-parallel-item:first-child::after {align-self: flex-end;width: 50%;}#sk-container-id-15 div.sk-parallel-item:last-child::after {align-self: flex-start;width: 50%;}#sk-container-id-15 div.sk-parallel-item:only-child::after {width: 0;}#sk-container-id-15 div.sk-dashed-wrapped {border: 1px dashed gray;margin: 0 0.4em 0.5em 0.4em;box-sizing: border-box;padding-bottom: 0.4em;background-color: white;}#sk-container-id-15 div.sk-label label {font-family: monospace;font-weight: bold;display: inline-block;line-height: 1.2em;}#sk-container-id-15 div.sk-label-container {text-align: center;}#sk-container-id-15 div.sk-container {/* jupyter's `normalize.less` sets `[hidden] { display: none; }` but bootstrap.min.css set `[hidden] { display: none !important; }` so we also need the `!important` here to be able to override the default hidden behavior on the sphinx rendered scikit-learn.org. See: https://github.com/scikit-learn/scikit-learn/issues/21755 */display: inline-block !important;position: relative;}#sk-container-id-15 div.sk-text-repr-fallback {display: none;}</style><div id=\"sk-container-id-15\" class=\"sk-top-container\"><div class=\"sk-text-repr-fallback\"><pre>GridSearchCV(cv=3,\n",
       "             estimator=XGBClassifier(base_score=None, booster=None,\n",
       "                                     callbacks=None, colsample_bylevel=None,\n",
       "                                     colsample_bynode=None,\n",
       "                                     colsample_bytree=0.5,\n",
       "                                     early_stopping_rounds=None,\n",
       "                                     enable_categorical=False,\n",
       "                                     eval_metric=&#x27;auc&#x27;, gamma=None, gpu_id=None,\n",
       "                                     grow_policy=None, importance_type=None,\n",
       "                                     interaction_constraints=None,\n",
       "                                     learning_rate=None, max_bin=None,\n",
       "                                     max_ca...\n",
       "                                     max_delta_step=None, max_depth=None,\n",
       "                                     max_leaves=None, min_child_weight=None,\n",
       "                                     missing=nan, monotone_constraints=None,\n",
       "                                     n_estimators=100, n_jobs=None,\n",
       "                                     num_parallel_tree=None, predictor=None,\n",
       "                                     random_state=None, reg_alpha=None,\n",
       "                                     reg_lambda=None, ...),\n",
       "             param_grid={&#x27;learning_rate&#x27;: [0.1, 0.01], &#x27;max_depth&#x27;: [4, 5, 7],\n",
       "                         &#x27;n_estimators&#x27;: [3000, 5000]},\n",
       "             return_train_score=True, scoring=&#x27;accuracy&#x27;, verbose=4)</pre><b>In a Jupyter environment, please rerun this cell to show the HTML representation or trust the notebook. <br />On GitHub, the HTML representation is unable to render, please try loading this page with nbviewer.org.</b></div><div class=\"sk-container\" hidden><div class=\"sk-item sk-dashed-wrapped\"><div class=\"sk-label-container\"><div class=\"sk-label sk-toggleable\"><input class=\"sk-toggleable__control sk-hidden--visually\" id=\"sk-estimator-id-17\" type=\"checkbox\" ><label for=\"sk-estimator-id-17\" class=\"sk-toggleable__label sk-toggleable__label-arrow\">GridSearchCV</label><div class=\"sk-toggleable__content\"><pre>GridSearchCV(cv=3,\n",
       "             estimator=XGBClassifier(base_score=None, booster=None,\n",
       "                                     callbacks=None, colsample_bylevel=None,\n",
       "                                     colsample_bynode=None,\n",
       "                                     colsample_bytree=0.5,\n",
       "                                     early_stopping_rounds=None,\n",
       "                                     enable_categorical=False,\n",
       "                                     eval_metric=&#x27;auc&#x27;, gamma=None, gpu_id=None,\n",
       "                                     grow_policy=None, importance_type=None,\n",
       "                                     interaction_constraints=None,\n",
       "                                     learning_rate=None, max_bin=None,\n",
       "                                     max_ca...\n",
       "                                     max_delta_step=None, max_depth=None,\n",
       "                                     max_leaves=None, min_child_weight=None,\n",
       "                                     missing=nan, monotone_constraints=None,\n",
       "                                     n_estimators=100, n_jobs=None,\n",
       "                                     num_parallel_tree=None, predictor=None,\n",
       "                                     random_state=None, reg_alpha=None,\n",
       "                                     reg_lambda=None, ...),\n",
       "             param_grid={&#x27;learning_rate&#x27;: [0.1, 0.01], &#x27;max_depth&#x27;: [4, 5, 7],\n",
       "                         &#x27;n_estimators&#x27;: [3000, 5000]},\n",
       "             return_train_score=True, scoring=&#x27;accuracy&#x27;, verbose=4)</pre></div></div></div><div class=\"sk-parallel\"><div class=\"sk-parallel-item\"><div class=\"sk-item\"><div class=\"sk-label-container\"><div class=\"sk-label sk-toggleable\"><input class=\"sk-toggleable__control sk-hidden--visually\" id=\"sk-estimator-id-18\" type=\"checkbox\" ><label for=\"sk-estimator-id-18\" class=\"sk-toggleable__label sk-toggleable__label-arrow\">estimator: XGBClassifier</label><div class=\"sk-toggleable__content\"><pre>XGBClassifier(base_score=None, booster=None, callbacks=None,\n",
       "              colsample_bylevel=None, colsample_bynode=None,\n",
       "              colsample_bytree=0.5, early_stopping_rounds=None,\n",
       "              enable_categorical=False, eval_metric=&#x27;auc&#x27;, gamma=None,\n",
       "              gpu_id=None, grow_policy=None, importance_type=None,\n",
       "              interaction_constraints=None, learning_rate=None, max_bin=None,\n",
       "              max_cat_to_onehot=None, max_delta_step=None, max_depth=None,\n",
       "              max_leaves=None, min_child_weight=None, missing=nan,\n",
       "              monotone_constraints=None, n_estimators=100, n_jobs=None,\n",
       "              num_parallel_tree=None, predictor=None, random_state=None,\n",
       "              reg_alpha=None, reg_lambda=None, ...)</pre></div></div></div><div class=\"sk-serial\"><div class=\"sk-item\"><div class=\"sk-estimator sk-toggleable\"><input class=\"sk-toggleable__control sk-hidden--visually\" id=\"sk-estimator-id-19\" type=\"checkbox\" ><label for=\"sk-estimator-id-19\" class=\"sk-toggleable__label sk-toggleable__label-arrow\">XGBClassifier</label><div class=\"sk-toggleable__content\"><pre>XGBClassifier(base_score=None, booster=None, callbacks=None,\n",
       "              colsample_bylevel=None, colsample_bynode=None,\n",
       "              colsample_bytree=0.5, early_stopping_rounds=None,\n",
       "              enable_categorical=False, eval_metric=&#x27;auc&#x27;, gamma=None,\n",
       "              gpu_id=None, grow_policy=None, importance_type=None,\n",
       "              interaction_constraints=None, learning_rate=None, max_bin=None,\n",
       "              max_cat_to_onehot=None, max_delta_step=None, max_depth=None,\n",
       "              max_leaves=None, min_child_weight=None, missing=nan,\n",
       "              monotone_constraints=None, n_estimators=100, n_jobs=None,\n",
       "              num_parallel_tree=None, predictor=None, random_state=None,\n",
       "              reg_alpha=None, reg_lambda=None, ...)</pre></div></div></div></div></div></div></div></div></div></div>"
      ],
      "text/plain": [
       "GridSearchCV(cv=3,\n",
       "             estimator=XGBClassifier(base_score=None, booster=None,\n",
       "                                     callbacks=None, colsample_bylevel=None,\n",
       "                                     colsample_bynode=None,\n",
       "                                     colsample_bytree=0.5,\n",
       "                                     early_stopping_rounds=None,\n",
       "                                     enable_categorical=False,\n",
       "                                     eval_metric='auc', gamma=None, gpu_id=None,\n",
       "                                     grow_policy=None, importance_type=None,\n",
       "                                     interaction_constraints=None,\n",
       "                                     learning_rate=None, max_bin=None,\n",
       "                                     max_ca...\n",
       "                                     max_delta_step=None, max_depth=None,\n",
       "                                     max_leaves=None, min_child_weight=None,\n",
       "                                     missing=nan, monotone_constraints=None,\n",
       "                                     n_estimators=100, n_jobs=None,\n",
       "                                     num_parallel_tree=None, predictor=None,\n",
       "                                     random_state=None, reg_alpha=None,\n",
       "                                     reg_lambda=None, ...),\n",
       "             param_grid={'learning_rate': [0.1, 0.01], 'max_depth': [4, 5, 7],\n",
       "                         'n_estimators': [3000, 5000]},\n",
       "             return_train_score=True, scoring='accuracy', verbose=4)"
      ]
     },
     "execution_count": 475,
     "metadata": {},
     "output_type": "execute_result"
    }
   ],
   "source": [
    "model_xgboost = GridSearchCV(estimator=xgboost.XGBClassifier(subsample=0.5,\n",
    "                                                               colsample_bytree=0.5,\n",
    "                                                               eval_metric='auc',\n",
    "                                                               use_label_encoder=False),\n",
    "                               param_grid= param_grid,\n",
    "                               cv=3,\n",
    "                               scoring='accuracy',\n",
    "                               return_train_score=True,\n",
    "                               verbose=4)\n",
    "model_xgboost.fit(X_train, y_train)"
   ]
  },
  {
   "cell_type": "code",
   "execution_count": 476,
   "id": "2eda3ee6",
   "metadata": {},
   "outputs": [
    {
     "data": {
      "text/plain": [
       "{'learning_rate': 0.1, 'max_depth': 7, 'n_estimators': 5000}"
      ]
     },
     "execution_count": 476,
     "metadata": {},
     "output_type": "execute_result"
    }
   ],
   "source": [
    "model_xgboost.best_params_"
   ]
  },
  {
   "cell_type": "code",
   "execution_count": 477,
   "id": "461c6b01",
   "metadata": {},
   "outputs": [
    {
     "data": {
      "text/html": [
       "<style>#sk-container-id-16 {color: black;background-color: white;}#sk-container-id-16 pre{padding: 0;}#sk-container-id-16 div.sk-toggleable {background-color: white;}#sk-container-id-16 label.sk-toggleable__label {cursor: pointer;display: block;width: 100%;margin-bottom: 0;padding: 0.3em;box-sizing: border-box;text-align: center;}#sk-container-id-16 label.sk-toggleable__label-arrow:before {content: \"▸\";float: left;margin-right: 0.25em;color: #696969;}#sk-container-id-16 label.sk-toggleable__label-arrow:hover:before {color: black;}#sk-container-id-16 div.sk-estimator:hover label.sk-toggleable__label-arrow:before {color: black;}#sk-container-id-16 div.sk-toggleable__content {max-height: 0;max-width: 0;overflow: hidden;text-align: left;background-color: #f0f8ff;}#sk-container-id-16 div.sk-toggleable__content pre {margin: 0.2em;color: black;border-radius: 0.25em;background-color: #f0f8ff;}#sk-container-id-16 input.sk-toggleable__control:checked~div.sk-toggleable__content {max-height: 200px;max-width: 100%;overflow: auto;}#sk-container-id-16 input.sk-toggleable__control:checked~label.sk-toggleable__label-arrow:before {content: \"▾\";}#sk-container-id-16 div.sk-estimator input.sk-toggleable__control:checked~label.sk-toggleable__label {background-color: #d4ebff;}#sk-container-id-16 div.sk-label input.sk-toggleable__control:checked~label.sk-toggleable__label {background-color: #d4ebff;}#sk-container-id-16 input.sk-hidden--visually {border: 0;clip: rect(1px 1px 1px 1px);clip: rect(1px, 1px, 1px, 1px);height: 1px;margin: -1px;overflow: hidden;padding: 0;position: absolute;width: 1px;}#sk-container-id-16 div.sk-estimator {font-family: monospace;background-color: #f0f8ff;border: 1px dotted black;border-radius: 0.25em;box-sizing: border-box;margin-bottom: 0.5em;}#sk-container-id-16 div.sk-estimator:hover {background-color: #d4ebff;}#sk-container-id-16 div.sk-parallel-item::after {content: \"\";width: 100%;border-bottom: 1px solid gray;flex-grow: 1;}#sk-container-id-16 div.sk-label:hover label.sk-toggleable__label {background-color: #d4ebff;}#sk-container-id-16 div.sk-serial::before {content: \"\";position: absolute;border-left: 1px solid gray;box-sizing: border-box;top: 0;bottom: 0;left: 50%;z-index: 0;}#sk-container-id-16 div.sk-serial {display: flex;flex-direction: column;align-items: center;background-color: white;padding-right: 0.2em;padding-left: 0.2em;position: relative;}#sk-container-id-16 div.sk-item {position: relative;z-index: 1;}#sk-container-id-16 div.sk-parallel {display: flex;align-items: stretch;justify-content: center;background-color: white;position: relative;}#sk-container-id-16 div.sk-item::before, #sk-container-id-16 div.sk-parallel-item::before {content: \"\";position: absolute;border-left: 1px solid gray;box-sizing: border-box;top: 0;bottom: 0;left: 50%;z-index: -1;}#sk-container-id-16 div.sk-parallel-item {display: flex;flex-direction: column;z-index: 1;position: relative;background-color: white;}#sk-container-id-16 div.sk-parallel-item:first-child::after {align-self: flex-end;width: 50%;}#sk-container-id-16 div.sk-parallel-item:last-child::after {align-self: flex-start;width: 50%;}#sk-container-id-16 div.sk-parallel-item:only-child::after {width: 0;}#sk-container-id-16 div.sk-dashed-wrapped {border: 1px dashed gray;margin: 0 0.4em 0.5em 0.4em;box-sizing: border-box;padding-bottom: 0.4em;background-color: white;}#sk-container-id-16 div.sk-label label {font-family: monospace;font-weight: bold;display: inline-block;line-height: 1.2em;}#sk-container-id-16 div.sk-label-container {text-align: center;}#sk-container-id-16 div.sk-container {/* jupyter's `normalize.less` sets `[hidden] { display: none; }` but bootstrap.min.css set `[hidden] { display: none !important; }` so we also need the `!important` here to be able to override the default hidden behavior on the sphinx rendered scikit-learn.org. See: https://github.com/scikit-learn/scikit-learn/issues/21755 */display: inline-block !important;position: relative;}#sk-container-id-16 div.sk-text-repr-fallback {display: none;}</style><div id=\"sk-container-id-16\" class=\"sk-top-container\"><div class=\"sk-text-repr-fallback\"><pre>XGBClassifier(base_score=0.5, booster=&#x27;gbtree&#x27;, callbacks=None,\n",
       "              colsample_bylevel=1, colsample_bynode=1, colsample_bytree=0.5,\n",
       "              early_stopping_rounds=None, enable_categorical=False,\n",
       "              eval_metric=&#x27;auc&#x27;, gamma=0, gpu_id=-1, grow_policy=&#x27;depthwise&#x27;,\n",
       "              importance_type=None, interaction_constraints=&#x27;&#x27;,\n",
       "              learning_rate=0.1, max_bin=256, max_cat_to_onehot=4,\n",
       "              max_delta_step=0, max_depth=7, max_leaves=0, min_child_weight=1,\n",
       "              missing=nan, monotone_constraints=&#x27;()&#x27;, n_estimators=5000,\n",
       "              n_jobs=0, num_parallel_tree=1, predictor=&#x27;auto&#x27;, random_state=0,\n",
       "              reg_alpha=0, reg_lambda=1, ...)</pre><b>In a Jupyter environment, please rerun this cell to show the HTML representation or trust the notebook. <br />On GitHub, the HTML representation is unable to render, please try loading this page with nbviewer.org.</b></div><div class=\"sk-container\" hidden><div class=\"sk-item\"><div class=\"sk-estimator sk-toggleable\"><input class=\"sk-toggleable__control sk-hidden--visually\" id=\"sk-estimator-id-20\" type=\"checkbox\" checked><label for=\"sk-estimator-id-20\" class=\"sk-toggleable__label sk-toggleable__label-arrow\">XGBClassifier</label><div class=\"sk-toggleable__content\"><pre>XGBClassifier(base_score=0.5, booster=&#x27;gbtree&#x27;, callbacks=None,\n",
       "              colsample_bylevel=1, colsample_bynode=1, colsample_bytree=0.5,\n",
       "              early_stopping_rounds=None, enable_categorical=False,\n",
       "              eval_metric=&#x27;auc&#x27;, gamma=0, gpu_id=-1, grow_policy=&#x27;depthwise&#x27;,\n",
       "              importance_type=None, interaction_constraints=&#x27;&#x27;,\n",
       "              learning_rate=0.1, max_bin=256, max_cat_to_onehot=4,\n",
       "              max_delta_step=0, max_depth=7, max_leaves=0, min_child_weight=1,\n",
       "              missing=nan, monotone_constraints=&#x27;()&#x27;, n_estimators=5000,\n",
       "              n_jobs=0, num_parallel_tree=1, predictor=&#x27;auto&#x27;, random_state=0,\n",
       "              reg_alpha=0, reg_lambda=1, ...)</pre></div></div></div></div></div>"
      ],
      "text/plain": [
       "XGBClassifier(base_score=0.5, booster='gbtree', callbacks=None,\n",
       "              colsample_bylevel=1, colsample_bynode=1, colsample_bytree=0.5,\n",
       "              early_stopping_rounds=None, enable_categorical=False,\n",
       "              eval_metric='auc', gamma=0, gpu_id=-1, grow_policy='depthwise',\n",
       "              importance_type=None, interaction_constraints='',\n",
       "              learning_rate=0.1, max_bin=256, max_cat_to_onehot=4,\n",
       "              max_delta_step=0, max_depth=7, max_leaves=0, min_child_weight=1,\n",
       "              missing=nan, monotone_constraints='()', n_estimators=5000,\n",
       "              n_jobs=0, num_parallel_tree=1, predictor='auto', random_state=0,\n",
       "              reg_alpha=0, reg_lambda=1, ...)"
      ]
     },
     "execution_count": 477,
     "metadata": {},
     "output_type": "execute_result"
    }
   ],
   "source": [
    "model_xgboost.best_estimator_"
   ]
  },
  {
   "cell_type": "code",
   "execution_count": 478,
   "id": "4b937472",
   "metadata": {},
   "outputs": [
    {
     "name": "stdout",
     "output_type": "stream",
     "text": [
      "Best Accuracy score of the GridSearchCV :: 0.9640085262116836\n"
     ]
    }
   ],
   "source": [
    "print(\"Best Accuracy score of the GridSearchCV ::\",model_xgboost.best_score_)"
   ]
  },
  {
   "cell_type": "markdown",
   "id": "e3f68607",
   "metadata": {},
   "source": [
    "We use a GridSearchCV for hyperparameter tuning. It provide us with determining the best parameters to be used in building our final model. We use the method best_params_ to get the best parameters to be in the final model. Also, the best_score_ method is used to check the best score based on scoring metric i.e accuracy or F1.\n",
    "\n",
    "After running the GridSearchCV, the best_score i.e accuracy score our model is **0.9640**."
   ]
  },
  {
   "cell_type": "markdown",
   "id": "37504230",
   "metadata": {},
   "source": [
    "# 7. Final Model with above parameters"
   ]
  },
  {
   "cell_type": "code",
   "execution_count": 182,
   "id": "4ea9f71f",
   "metadata": {},
   "outputs": [],
   "source": [
    "# using ROSE as a sampling technique\n",
    "from sklearn.model_selection import train_test_split\n",
    "X_train, X_test, y_train, y_test = train_test_split(X_ros, y_ros, test_size=0.3, random_state=101)"
   ]
  },
  {
   "cell_type": "code",
   "execution_count": 438,
   "id": "3134cac0",
   "metadata": {},
   "outputs": [
    {
     "name": "stderr",
     "output_type": "stream",
     "text": [
      "C:\\users\\hp\\appdata\\local\\programs\\python\\python39\\lib\\site-packages\\xgboost\\sklearn.py:793: UserWarning: `early_stopping_rounds` in `fit` method is deprecated for better compatibility with scikit-learn, use `early_stopping_rounds` in constructor or`set_params` instead.\n",
      "  warnings.warn(\n"
     ]
    },
    {
     "data": {
      "text/html": [
       "<style>#sk-container-id-3 {color: black;background-color: white;}#sk-container-id-3 pre{padding: 0;}#sk-container-id-3 div.sk-toggleable {background-color: white;}#sk-container-id-3 label.sk-toggleable__label {cursor: pointer;display: block;width: 100%;margin-bottom: 0;padding: 0.3em;box-sizing: border-box;text-align: center;}#sk-container-id-3 label.sk-toggleable__label-arrow:before {content: \"▸\";float: left;margin-right: 0.25em;color: #696969;}#sk-container-id-3 label.sk-toggleable__label-arrow:hover:before {color: black;}#sk-container-id-3 div.sk-estimator:hover label.sk-toggleable__label-arrow:before {color: black;}#sk-container-id-3 div.sk-toggleable__content {max-height: 0;max-width: 0;overflow: hidden;text-align: left;background-color: #f0f8ff;}#sk-container-id-3 div.sk-toggleable__content pre {margin: 0.2em;color: black;border-radius: 0.25em;background-color: #f0f8ff;}#sk-container-id-3 input.sk-toggleable__control:checked~div.sk-toggleable__content {max-height: 200px;max-width: 100%;overflow: auto;}#sk-container-id-3 input.sk-toggleable__control:checked~label.sk-toggleable__label-arrow:before {content: \"▾\";}#sk-container-id-3 div.sk-estimator input.sk-toggleable__control:checked~label.sk-toggleable__label {background-color: #d4ebff;}#sk-container-id-3 div.sk-label input.sk-toggleable__control:checked~label.sk-toggleable__label {background-color: #d4ebff;}#sk-container-id-3 input.sk-hidden--visually {border: 0;clip: rect(1px 1px 1px 1px);clip: rect(1px, 1px, 1px, 1px);height: 1px;margin: -1px;overflow: hidden;padding: 0;position: absolute;width: 1px;}#sk-container-id-3 div.sk-estimator {font-family: monospace;background-color: #f0f8ff;border: 1px dotted black;border-radius: 0.25em;box-sizing: border-box;margin-bottom: 0.5em;}#sk-container-id-3 div.sk-estimator:hover {background-color: #d4ebff;}#sk-container-id-3 div.sk-parallel-item::after {content: \"\";width: 100%;border-bottom: 1px solid gray;flex-grow: 1;}#sk-container-id-3 div.sk-label:hover label.sk-toggleable__label {background-color: #d4ebff;}#sk-container-id-3 div.sk-serial::before {content: \"\";position: absolute;border-left: 1px solid gray;box-sizing: border-box;top: 0;bottom: 0;left: 50%;z-index: 0;}#sk-container-id-3 div.sk-serial {display: flex;flex-direction: column;align-items: center;background-color: white;padding-right: 0.2em;padding-left: 0.2em;position: relative;}#sk-container-id-3 div.sk-item {position: relative;z-index: 1;}#sk-container-id-3 div.sk-parallel {display: flex;align-items: stretch;justify-content: center;background-color: white;position: relative;}#sk-container-id-3 div.sk-item::before, #sk-container-id-3 div.sk-parallel-item::before {content: \"\";position: absolute;border-left: 1px solid gray;box-sizing: border-box;top: 0;bottom: 0;left: 50%;z-index: -1;}#sk-container-id-3 div.sk-parallel-item {display: flex;flex-direction: column;z-index: 1;position: relative;background-color: white;}#sk-container-id-3 div.sk-parallel-item:first-child::after {align-self: flex-end;width: 50%;}#sk-container-id-3 div.sk-parallel-item:last-child::after {align-self: flex-start;width: 50%;}#sk-container-id-3 div.sk-parallel-item:only-child::after {width: 0;}#sk-container-id-3 div.sk-dashed-wrapped {border: 1px dashed gray;margin: 0 0.4em 0.5em 0.4em;box-sizing: border-box;padding-bottom: 0.4em;background-color: white;}#sk-container-id-3 div.sk-label label {font-family: monospace;font-weight: bold;display: inline-block;line-height: 1.2em;}#sk-container-id-3 div.sk-label-container {text-align: center;}#sk-container-id-3 div.sk-container {/* jupyter's `normalize.less` sets `[hidden] { display: none; }` but bootstrap.min.css set `[hidden] { display: none !important; }` so we also need the `!important` here to be able to override the default hidden behavior on the sphinx rendered scikit-learn.org. See: https://github.com/scikit-learn/scikit-learn/issues/21755 */display: inline-block !important;position: relative;}#sk-container-id-3 div.sk-text-repr-fallback {display: none;}</style><div id=\"sk-container-id-3\" class=\"sk-top-container\"><div class=\"sk-text-repr-fallback\"><pre>XGBClassifier(base_score=0.5, booster=&#x27;gbtree&#x27;, callbacks=None,\n",
       "              colsample_bylevel=1, colsample_bynode=1, colsample_bytree=0.5,\n",
       "              early_stopping_rounds=None, enable_categorical=False,\n",
       "              eval_metric=&#x27;auc&#x27;, gamma=0, gpu_id=-1, grow_policy=&#x27;depthwise&#x27;,\n",
       "              importance_type=None, interaction_constraints=&#x27;&#x27;,\n",
       "              learning_rate=0.1, max_bin=256, max_cat_to_onehot=4,\n",
       "              max_delta_step=0, max_depth=7, max_leaves=0, min_child_weight=1,\n",
       "              missing=nan, monotone_constraints=&#x27;()&#x27;, n_estimators=5000,\n",
       "              n_jobs=0, num_parallel_tree=1, predictor=&#x27;auto&#x27;, random_state=0,\n",
       "              reg_alpha=0, reg_lambda=1, ...)</pre><b>In a Jupyter environment, please rerun this cell to show the HTML representation or trust the notebook. <br />On GitHub, the HTML representation is unable to render, please try loading this page with nbviewer.org.</b></div><div class=\"sk-container\" hidden><div class=\"sk-item\"><div class=\"sk-estimator sk-toggleable\"><input class=\"sk-toggleable__control sk-hidden--visually\" id=\"sk-estimator-id-3\" type=\"checkbox\" checked><label for=\"sk-estimator-id-3\" class=\"sk-toggleable__label sk-toggleable__label-arrow\">XGBClassifier</label><div class=\"sk-toggleable__content\"><pre>XGBClassifier(base_score=0.5, booster=&#x27;gbtree&#x27;, callbacks=None,\n",
       "              colsample_bylevel=1, colsample_bynode=1, colsample_bytree=0.5,\n",
       "              early_stopping_rounds=None, enable_categorical=False,\n",
       "              eval_metric=&#x27;auc&#x27;, gamma=0, gpu_id=-1, grow_policy=&#x27;depthwise&#x27;,\n",
       "              importance_type=None, interaction_constraints=&#x27;&#x27;,\n",
       "              learning_rate=0.1, max_bin=256, max_cat_to_onehot=4,\n",
       "              max_delta_step=0, max_depth=7, max_leaves=0, min_child_weight=1,\n",
       "              missing=nan, monotone_constraints=&#x27;()&#x27;, n_estimators=5000,\n",
       "              n_jobs=0, num_parallel_tree=1, predictor=&#x27;auto&#x27;, random_state=0,\n",
       "              reg_alpha=0, reg_lambda=1, ...)</pre></div></div></div></div></div>"
      ],
      "text/plain": [
       "XGBClassifier(base_score=0.5, booster='gbtree', callbacks=None,\n",
       "              colsample_bylevel=1, colsample_bynode=1, colsample_bytree=0.5,\n",
       "              early_stopping_rounds=None, enable_categorical=False,\n",
       "              eval_metric='auc', gamma=0, gpu_id=-1, grow_policy='depthwise',\n",
       "              importance_type=None, interaction_constraints='',\n",
       "              learning_rate=0.1, max_bin=256, max_cat_to_onehot=4,\n",
       "              max_delta_step=0, max_depth=7, max_leaves=0, min_child_weight=1,\n",
       "              missing=nan, monotone_constraints='()', n_estimators=5000,\n",
       "              n_jobs=0, num_parallel_tree=1, predictor='auto', random_state=0,\n",
       "              reg_alpha=0, reg_lambda=1, ...)"
      ]
     },
     "execution_count": 438,
     "metadata": {},
     "output_type": "execute_result"
    }
   ],
   "source": [
    "final_model = xgboost.XGBClassifier(base_score=0.5, booster='gbtree', callbacks=None,\n",
    "              colsample_bylevel=1, colsample_bynode=1, colsample_bytree=0.5,\n",
    "              early_stopping_rounds=None, enable_categorical=False,\n",
    "              eval_metric='auc', gamma=0, gpu_id=-1, grow_policy='depthwise',\n",
    "              importance_type=None, interaction_constraints='',\n",
    "              learning_rate=0.1, max_bin=256, max_cat_to_onehot=4,\n",
    "              max_delta_step=0, max_depth=7, max_leaves=0, min_child_weight=1,\n",
    "                                    monotone_constraints='()', n_estimators=5000,\n",
    "              n_jobs=0, num_parallel_tree=1, predictor='auto', random_state=0,\n",
    "              reg_alpha=0, reg_lambda=1)\n",
    "\n",
    "eval_set = [(X_test, y_test)]\n",
    "\n",
    "final_model.fit(X_train, \n",
    "                 y_train,\n",
    "                early_stopping_rounds=10,\n",
    "                eval_set=eval_set,\n",
    "                verbose=False)\n"
   ]
  },
  {
   "cell_type": "code",
   "execution_count": 437,
   "id": "4a99fbbc",
   "metadata": {},
   "outputs": [
    {
     "name": "stdout",
     "output_type": "stream",
     "text": [
      "Best Accuracy score of the Final Model :: 0.9892\n"
     ]
    }
   ],
   "source": [
    "print(\"Best Accuracy score of the Final Model ::\",round(final_model.best_score,4))"
   ]
  },
  {
   "cell_type": "markdown",
   "id": "87df3c2d",
   "metadata": {},
   "source": [
    "We can note that the accuracy score of the model improved from 0.9644 to 0.9892 after we applied the GridSearchCV best parameters."
   ]
  },
  {
   "cell_type": "code",
   "execution_count": 185,
   "id": "6e12a46d",
   "metadata": {},
   "outputs": [],
   "source": [
    "final_predictions = final_model.predict(X_test)"
   ]
  },
  {
   "cell_type": "code",
   "execution_count": 186,
   "id": "f5e1fa54",
   "metadata": {},
   "outputs": [
    {
     "data": {
      "text/plain": [
       "array([1, 1, 1, ..., 0, 0, 1])"
      ]
     },
     "execution_count": 186,
     "metadata": {},
     "output_type": "execute_result"
    }
   ],
   "source": [
    "final_predictions "
   ]
  },
  {
   "cell_type": "code",
   "execution_count": 187,
   "id": "b3d77116",
   "metadata": {},
   "outputs": [
    {
     "name": "stdout",
     "output_type": "stream",
     "text": [
      "Accuracy of Model:: 0.9621337545756945\n"
     ]
    }
   ],
   "source": [
    "# accuracy on test data\n",
    "print(\"Accuracy of Model::\",accuracy_score(y_test,final_predictions))"
   ]
  },
  {
   "cell_type": "code",
   "execution_count": 188,
   "id": "6b46b7c9",
   "metadata": {},
   "outputs": [
    {
     "data": {
      "text/plain": [
       "0.96222512684118"
      ]
     },
     "execution_count": 188,
     "metadata": {},
     "output_type": "execute_result"
    }
   ],
   "source": [
    "roc_auc_score(y_test,final_predictions)"
   ]
  },
  {
   "cell_type": "code",
   "execution_count": 189,
   "id": "e7a9e93e",
   "metadata": {},
   "outputs": [
    {
     "data": {
      "text/plain": [
       "array([[30703,  2309],\n",
       "       [  184, 32641]], dtype=int64)"
      ]
     },
     "execution_count": 189,
     "metadata": {},
     "output_type": "execute_result"
    }
   ],
   "source": [
    "confusion_matrix(y_test, final_predictions)"
   ]
  },
  {
   "cell_type": "code",
   "execution_count": 190,
   "id": "181d5dc3",
   "metadata": {},
   "outputs": [],
   "source": [
    "tn, fp, fn, tp = confusion_matrix(y_test, final_predictions).ravel()"
   ]
  },
  {
   "cell_type": "code",
   "execution_count": 191,
   "id": "efb70199",
   "metadata": {},
   "outputs": [
    {
     "data": {
      "text/plain": [
       "(30703, 2309, 184, 32641)"
      ]
     },
     "execution_count": 191,
     "metadata": {},
     "output_type": "execute_result"
    }
   ],
   "source": [
    "(tn, fp, fn, tp)"
   ]
  },
  {
   "cell_type": "code",
   "execution_count": 192,
   "id": "14e90532",
   "metadata": {},
   "outputs": [
    {
     "name": "stdout",
     "output_type": "stream",
     "text": [
      "                precision    recall  f1-score   support\n",
      "\n",
      " Deliquency NO       0.99      0.93      0.96     33012\n",
      "Deliquency YES       0.93      0.99      0.96     32825\n",
      "\n",
      "      accuracy                           0.96     65837\n",
      "     macro avg       0.96      0.96      0.96     65837\n",
      "  weighted avg       0.96      0.96      0.96     65837\n",
      "\n"
     ]
    }
   ],
   "source": [
    "target_names = ['Deliquency NO', 'Deliquency YES']\n",
    "print(classification_report(y_test, final_predictions, target_names=target_names))"
   ]
  },
  {
   "cell_type": "markdown",
   "id": "e10ce087",
   "metadata": {},
   "source": [
    "We note our dataset provides best estimates for our precision, recall and F1-score."
   ]
  },
  {
   "cell_type": "markdown",
   "id": "e173cf24",
   "metadata": {},
   "source": [
    "# 8. Finally, make predictions on the New Dataset"
   ]
  },
  {
   "cell_type": "code",
   "execution_count": 263,
   "id": "c6092c01",
   "metadata": {},
   "outputs": [],
   "source": [
    "# predictions\n",
    "test_predictions = final_model.predict(test_data)\n",
    "\n",
    "# probability predictions\n",
    "test_predictions_proba = final_model.predict_proba(test_data)"
   ]
  },
  {
   "cell_type": "code",
   "execution_count": 264,
   "id": "440c4b47",
   "metadata": {},
   "outputs": [
    {
     "data": {
      "text/plain": [
       "array([0, 0, 0, ..., 0, 0, 0])"
      ]
     },
     "execution_count": 264,
     "metadata": {},
     "output_type": "execute_result"
    }
   ],
   "source": [
    "test_predictions"
   ]
  },
  {
   "cell_type": "code",
   "execution_count": 265,
   "id": "f3aec52f",
   "metadata": {},
   "outputs": [
    {
     "data": {
      "text/plain": [
       "array([[0.874525  , 0.125475  ],\n",
       "       [0.93982965, 0.06017033],\n",
       "       [0.8845837 , 0.1154163 ],\n",
       "       ...,\n",
       "       [0.99746263, 0.00253735],\n",
       "       [0.98409253, 0.01590747],\n",
       "       [0.947574  , 0.052426  ]], dtype=float32)"
      ]
     },
     "execution_count": 265,
     "metadata": {},
     "output_type": "execute_result"
    }
   ],
   "source": [
    "test_predictions_proba"
   ]
  },
  {
   "cell_type": "code",
   "execution_count": 266,
   "id": "8a2bb8c5",
   "metadata": {},
   "outputs": [],
   "source": [
    "# create a dataframe of the test predictions results\n",
    "test_predict = pd.DataFrame(test_predictions)\n",
    "test_predict = test_predict[0]\n",
    "\n",
    "# create a dataframe of probability predictions\n",
    "probability_pred = pd.DataFrame(test_predictions_proba)"
   ]
  },
  {
   "cell_type": "code",
   "execution_count": 269,
   "id": "fcb405a4",
   "metadata": {},
   "outputs": [
    {
     "data": {
      "text/html": [
       "<div>\n",
       "<style scoped>\n",
       "    .dataframe tbody tr th:only-of-type {\n",
       "        vertical-align: middle;\n",
       "    }\n",
       "\n",
       "    .dataframe tbody tr th {\n",
       "        vertical-align: top;\n",
       "    }\n",
       "\n",
       "    .dataframe thead th {\n",
       "        text-align: right;\n",
       "    }\n",
       "</style>\n",
       "<table border=\"1\" class=\"dataframe\">\n",
       "  <thead>\n",
       "    <tr style=\"text-align: right;\">\n",
       "      <th></th>\n",
       "      <th>0</th>\n",
       "      <th>1</th>\n",
       "    </tr>\n",
       "  </thead>\n",
       "  <tbody>\n",
       "    <tr>\n",
       "      <th>0</th>\n",
       "      <td>0.874525</td>\n",
       "      <td>0.125475</td>\n",
       "    </tr>\n",
       "    <tr>\n",
       "      <th>1</th>\n",
       "      <td>0.939830</td>\n",
       "      <td>0.060170</td>\n",
       "    </tr>\n",
       "    <tr>\n",
       "      <th>2</th>\n",
       "      <td>0.884584</td>\n",
       "      <td>0.115416</td>\n",
       "    </tr>\n",
       "    <tr>\n",
       "      <th>3</th>\n",
       "      <td>0.940370</td>\n",
       "      <td>0.059630</td>\n",
       "    </tr>\n",
       "    <tr>\n",
       "      <th>4</th>\n",
       "      <td>0.593670</td>\n",
       "      <td>0.406330</td>\n",
       "    </tr>\n",
       "    <tr>\n",
       "      <th>...</th>\n",
       "      <td>...</td>\n",
       "      <td>...</td>\n",
       "    </tr>\n",
       "    <tr>\n",
       "      <th>101498</th>\n",
       "      <td>0.814239</td>\n",
       "      <td>0.185761</td>\n",
       "    </tr>\n",
       "    <tr>\n",
       "      <th>101499</th>\n",
       "      <td>0.190170</td>\n",
       "      <td>0.809830</td>\n",
       "    </tr>\n",
       "    <tr>\n",
       "      <th>101500</th>\n",
       "      <td>0.997463</td>\n",
       "      <td>0.002537</td>\n",
       "    </tr>\n",
       "    <tr>\n",
       "      <th>101501</th>\n",
       "      <td>0.984093</td>\n",
       "      <td>0.015907</td>\n",
       "    </tr>\n",
       "    <tr>\n",
       "      <th>101502</th>\n",
       "      <td>0.947574</td>\n",
       "      <td>0.052426</td>\n",
       "    </tr>\n",
       "  </tbody>\n",
       "</table>\n",
       "<p>101503 rows × 2 columns</p>\n",
       "</div>"
      ],
      "text/plain": [
       "               0         1\n",
       "0       0.874525  0.125475\n",
       "1       0.939830  0.060170\n",
       "2       0.884584  0.115416\n",
       "3       0.940370  0.059630\n",
       "4       0.593670  0.406330\n",
       "...          ...       ...\n",
       "101498  0.814239  0.185761\n",
       "101499  0.190170  0.809830\n",
       "101500  0.997463  0.002537\n",
       "101501  0.984093  0.015907\n",
       "101502  0.947574  0.052426\n",
       "\n",
       "[101503 rows x 2 columns]"
      ]
     },
     "execution_count": 269,
     "metadata": {},
     "output_type": "execute_result"
    }
   ],
   "source": [
    "# probability predictions as a dataframe\n",
    "probability_pred"
   ]
  },
  {
   "cell_type": "markdown",
   "id": "affb8ebc",
   "metadata": {},
   "source": [
    "## Compare with solutions for accuracy of the model"
   ]
  },
  {
   "cell_type": "code",
   "execution_count": 270,
   "id": "93e4d4ef",
   "metadata": {},
   "outputs": [],
   "source": [
    "df = pd.read_csv(\"sampleEntry.csv\")\n",
    "df.drop('Id', axis=1, inplace=True)\n",
    "df = df['Probability']"
   ]
  },
  {
   "cell_type": "code",
   "execution_count": 391,
   "id": "f61f9f48",
   "metadata": {},
   "outputs": [],
   "source": [
    "# test probability Actual results \n",
    "solutions = []\n",
    "for i in df:\n",
    "    if i < 0.19:\n",
    "        solutions.append(0)\n",
    "    else:\n",
    "        solutions.append(1)"
   ]
  },
  {
   "cell_type": "markdown",
   "id": "9b7e389b",
   "metadata": {},
   "source": [
    "For the Actual results, we assume that a probability below 0.19 will classify the deliquency as ZERO (No deliquency) whereas the probability above 0.19 will provide a deliquency of ONE (Showing presense of deliquency)."
   ]
  },
  {
   "cell_type": "code",
   "execution_count": 386,
   "id": "b73c6bff",
   "metadata": {},
   "outputs": [
    {
     "name": "stdout",
     "output_type": "stream",
     "text": [
      "Accuracy of Model:: 0.9242485443779986\n"
     ]
    }
   ],
   "source": [
    "print(\"Accuracy of Model::\",accuracy_score(solutions,test_predictions))"
   ]
  },
  {
   "cell_type": "code",
   "execution_count": 387,
   "id": "0b19f3dc",
   "metadata": {},
   "outputs": [
    {
     "data": {
      "text/plain": [
       "0.8313017351125794"
      ]
     },
     "execution_count": 387,
     "metadata": {},
     "output_type": "execute_result"
    }
   ],
   "source": [
    "roc_auc_score(solutions,test_predictions)"
   ]
  },
  {
   "cell_type": "code",
   "execution_count": 392,
   "id": "04803617",
   "metadata": {},
   "outputs": [
    {
     "name": "stdout",
     "output_type": "stream",
     "text": [
      "                precision    recall  f1-score   support\n",
      "\n",
      " Deliquency NO       0.97      0.95      0.96     91869\n",
      "Deliquency YES       0.58      0.70      0.64      9634\n",
      "\n",
      "      accuracy                           0.92    101503\n",
      "     macro avg       0.77      0.83      0.80    101503\n",
      "  weighted avg       0.93      0.92      0.93    101503\n",
      "\n"
     ]
    }
   ],
   "source": [
    "print(classification_report(solutions,test_predictions, target_names=target_names))"
   ]
  },
  {
   "cell_type": "code",
   "execution_count": 394,
   "id": "6f03b0cc",
   "metadata": {},
   "outputs": [
    {
     "data": {
      "text/plain": [
       "array([[86955,  4914],\n",
       "       [ 2845,  6789]], dtype=int64)"
      ]
     },
     "execution_count": 394,
     "metadata": {},
     "output_type": "execute_result"
    }
   ],
   "source": [
    "confusion_matrix(solutions,test_predictions)"
   ]
  },
  {
   "cell_type": "code",
   "execution_count": 395,
   "id": "8db993a9",
   "metadata": {},
   "outputs": [],
   "source": [
    "tn, fp, fn, tp = confusion_matrix(solutions,test_predictions).ravel()"
   ]
  },
  {
   "cell_type": "code",
   "execution_count": 396,
   "id": "8131632a",
   "metadata": {},
   "outputs": [
    {
     "data": {
      "text/plain": [
       "(86955, 4914, 2845, 6789)"
      ]
     },
     "execution_count": 396,
     "metadata": {},
     "output_type": "execute_result"
    }
   ],
   "source": [
    "(tn, fp, fn, tp)"
   ]
  },
  {
   "cell_type": "markdown",
   "id": "136b4bc3",
   "metadata": {},
   "source": [
    "## Conclusion"
   ]
  },
  {
   "cell_type": "markdown",
   "id": "aa96b905",
   "metadata": {},
   "source": [
    "The paramount importance in our ML model is to build a model that is able to detect users that have a deliquency in the past 2 years. The evaluation metric that we will focus on in our classification model is the **RECALL**. Recall (sensitivity) measures the proportion of Actual Positive labels correctly identified in the model. It is calculated by the  total number of True Positive divided by the Total number of Positive & Negative Predictions. We use this metric because it helps when the cost of False Negative is High i.e when the type 2 error is important. \n",
    "\n",
    "The ultimate goal is to minimise our False Negative predictions, A test result which wrongly indicates that a particular condition or attribute is absent. Minimising the FN reduces the predictions that there is No Deliquncy when infact the user has a deliquency.\n",
    "\n",
    "The results from the confusion matrix show that only 2 845 were classified as False Negative and 6 789 were classified as True Positive. The classification report shows that the Deliquency of YES has a **RECALL** of 0.70 and F1 score of 0.64.\n",
    "\n",
    "Also, the Accuracy of our model on test data is 0.9242 whereas ROC AUC score is 0.8313. This shows that the model does not result in overfitting where it perfoms well on train data but under performs on unseen data (test data). In this case, the model performs well both on train and test data."
   ]
  },
  {
   "cell_type": "code",
   "execution_count": null,
   "id": "496bd8bf",
   "metadata": {},
   "outputs": [],
   "source": []
  }
 ],
 "metadata": {
  "kernelspec": {
   "display_name": "Python 3 (ipykernel)",
   "language": "python",
   "name": "python3"
  },
  "language_info": {
   "codemirror_mode": {
    "name": "ipython",
    "version": 3
   },
   "file_extension": ".py",
   "mimetype": "text/x-python",
   "name": "python",
   "nbconvert_exporter": "python",
   "pygments_lexer": "ipython3",
   "version": "3.9.6"
  }
 },
 "nbformat": 4,
 "nbformat_minor": 5
}
